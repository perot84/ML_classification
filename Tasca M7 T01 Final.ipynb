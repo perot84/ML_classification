{
 "cells": [
  {
   "cell_type": "markdown",
   "id": "87724917",
   "metadata": {},
   "source": [
    "\n",
    "# Exercici 1\n",
    "\n",
    "Crea almenys dos models de classificació diferents per intentar predir el millor les classes de l'arxiu adjunt."
   ]
  },
  {
   "cell_type": "code",
   "execution_count": 1,
   "id": "30c284f2",
   "metadata": {
    "scrolled": true
   },
   "outputs": [],
   "source": [
    "import pandas as pd\n",
    "from sklearn.tree import DecisionTreeClassifier # Import Decision Tree Classifier\n",
    "from sklearn.model_selection import train_test_split # Import train_test_split function\n",
    "from sklearn import metrics #Import scikit-learn metrics module for accuracy calculation\n",
    "import matplotlib.pyplot as plt\n",
    "from sklearn.metrics import confusion_matrix\n",
    "\n",
    "df = pd.read_csv ('wineData.txt', names= ['Alcohol','Ácido málico', 'Cenizas', 'Alcalinidad de la ceniza','Magnesio','Fenoles totales','Flavanoides','Fenoles no flavonoides','Proantocianinas','Intensidad del color','Tonalidad','DO280/OD315 de los vinos diluidos','Prolina'])"
   ]
  },
  {
   "cell_type": "markdown",
   "id": "7757d10a",
   "metadata": {},
   "source": [
    "Importo csv i li posi el títol de les columnes"
   ]
  },
  {
   "cell_type": "code",
   "execution_count": 2,
   "id": "f804351b",
   "metadata": {},
   "outputs": [
    {
     "data": {
      "text/html": [
       "<div>\n",
       "<style scoped>\n",
       "    .dataframe tbody tr th:only-of-type {\n",
       "        vertical-align: middle;\n",
       "    }\n",
       "\n",
       "    .dataframe tbody tr th {\n",
       "        vertical-align: top;\n",
       "    }\n",
       "\n",
       "    .dataframe thead th {\n",
       "        text-align: right;\n",
       "    }\n",
       "</style>\n",
       "<table border=\"1\" class=\"dataframe\">\n",
       "  <thead>\n",
       "    <tr style=\"text-align: right;\">\n",
       "      <th></th>\n",
       "      <th>Clases</th>\n",
       "      <th>Alcohol</th>\n",
       "      <th>Ácido málico</th>\n",
       "      <th>Cenizas</th>\n",
       "      <th>Alcalinidad de la ceniza</th>\n",
       "      <th>Magnesio</th>\n",
       "      <th>Fenoles totales</th>\n",
       "      <th>Flavanoides</th>\n",
       "      <th>Fenoles no flavonoides</th>\n",
       "      <th>Proantocianinas</th>\n",
       "      <th>Intensidad del color</th>\n",
       "      <th>Tonalidad</th>\n",
       "      <th>DO280/OD315 de los vinos diluidos</th>\n",
       "      <th>Prolina</th>\n",
       "    </tr>\n",
       "  </thead>\n",
       "  <tbody>\n",
       "    <tr>\n",
       "      <th>0</th>\n",
       "      <td>1</td>\n",
       "      <td>14.23</td>\n",
       "      <td>1.71</td>\n",
       "      <td>2.43</td>\n",
       "      <td>15.6</td>\n",
       "      <td>127</td>\n",
       "      <td>2.80</td>\n",
       "      <td>3.06</td>\n",
       "      <td>0.28</td>\n",
       "      <td>2.29</td>\n",
       "      <td>5.64</td>\n",
       "      <td>1.04</td>\n",
       "      <td>3.92</td>\n",
       "      <td>1065</td>\n",
       "    </tr>\n",
       "    <tr>\n",
       "      <th>1</th>\n",
       "      <td>1</td>\n",
       "      <td>13.20</td>\n",
       "      <td>1.78</td>\n",
       "      <td>2.14</td>\n",
       "      <td>11.2</td>\n",
       "      <td>100</td>\n",
       "      <td>2.65</td>\n",
       "      <td>2.76</td>\n",
       "      <td>0.26</td>\n",
       "      <td>1.28</td>\n",
       "      <td>4.38</td>\n",
       "      <td>1.05</td>\n",
       "      <td>3.40</td>\n",
       "      <td>1050</td>\n",
       "    </tr>\n",
       "    <tr>\n",
       "      <th>2</th>\n",
       "      <td>1</td>\n",
       "      <td>13.16</td>\n",
       "      <td>2.36</td>\n",
       "      <td>2.67</td>\n",
       "      <td>18.6</td>\n",
       "      <td>101</td>\n",
       "      <td>2.80</td>\n",
       "      <td>3.24</td>\n",
       "      <td>0.30</td>\n",
       "      <td>2.81</td>\n",
       "      <td>5.68</td>\n",
       "      <td>1.03</td>\n",
       "      <td>3.17</td>\n",
       "      <td>1185</td>\n",
       "    </tr>\n",
       "    <tr>\n",
       "      <th>3</th>\n",
       "      <td>1</td>\n",
       "      <td>14.37</td>\n",
       "      <td>1.95</td>\n",
       "      <td>2.50</td>\n",
       "      <td>16.8</td>\n",
       "      <td>113</td>\n",
       "      <td>3.85</td>\n",
       "      <td>3.49</td>\n",
       "      <td>0.24</td>\n",
       "      <td>2.18</td>\n",
       "      <td>7.80</td>\n",
       "      <td>0.86</td>\n",
       "      <td>3.45</td>\n",
       "      <td>1480</td>\n",
       "    </tr>\n",
       "    <tr>\n",
       "      <th>4</th>\n",
       "      <td>1</td>\n",
       "      <td>13.24</td>\n",
       "      <td>2.59</td>\n",
       "      <td>2.87</td>\n",
       "      <td>21.0</td>\n",
       "      <td>118</td>\n",
       "      <td>2.80</td>\n",
       "      <td>2.69</td>\n",
       "      <td>0.39</td>\n",
       "      <td>1.82</td>\n",
       "      <td>4.32</td>\n",
       "      <td>1.04</td>\n",
       "      <td>2.93</td>\n",
       "      <td>735</td>\n",
       "    </tr>\n",
       "  </tbody>\n",
       "</table>\n",
       "</div>"
      ],
      "text/plain": [
       "   Clases  Alcohol  Ácido málico  Cenizas  Alcalinidad de la ceniza  Magnesio  \\\n",
       "0       1    14.23          1.71     2.43                      15.6       127   \n",
       "1       1    13.20          1.78     2.14                      11.2       100   \n",
       "2       1    13.16          2.36     2.67                      18.6       101   \n",
       "3       1    14.37          1.95     2.50                      16.8       113   \n",
       "4       1    13.24          2.59     2.87                      21.0       118   \n",
       "\n",
       "   Fenoles totales  Flavanoides  Fenoles no flavonoides  Proantocianinas  \\\n",
       "0             2.80         3.06                    0.28             2.29   \n",
       "1             2.65         2.76                    0.26             1.28   \n",
       "2             2.80         3.24                    0.30             2.81   \n",
       "3             3.85         3.49                    0.24             2.18   \n",
       "4             2.80         2.69                    0.39             1.82   \n",
       "\n",
       "   Intensidad del color  Tonalidad  DO280/OD315 de los vinos diluidos  Prolina  \n",
       "0                  5.64       1.04                               3.92     1065  \n",
       "1                  4.38       1.05                               3.40     1050  \n",
       "2                  5.68       1.03                               3.17     1185  \n",
       "3                  7.80       0.86                               3.45     1480  \n",
       "4                  4.32       1.04                               2.93      735  "
      ]
     },
     "execution_count": 2,
     "metadata": {},
     "output_type": "execute_result"
    }
   ],
   "source": [
    "df.reset_index(inplace=True, names='Clases')\n",
    "df.head()\n"
   ]
  },
  {
   "cell_type": "markdown",
   "id": "1b92ab51",
   "metadata": {},
   "source": [
    "Passo l'índex com a columna ja que és on hi ha informació de les diferents classes de vi"
   ]
  },
  {
   "cell_type": "code",
   "execution_count": 3,
   "id": "c1a70cb3",
   "metadata": {},
   "outputs": [],
   "source": [
    "X=df.drop(\"Clases\", axis=1)\n",
    "y=df.Clases\n"
   ]
  },
  {
   "cell_type": "markdown",
   "id": "a91d5257",
   "metadata": {},
   "source": [
    "Separo X i y"
   ]
  },
  {
   "cell_type": "code",
   "execution_count": 4,
   "id": "5f3d1f08",
   "metadata": {},
   "outputs": [],
   "source": [
    "X_train, X_test, y_train, y_test = train_test_split(X, y, test_size=0.3, random_state=42) # 70% training and 30% test\n"
   ]
  },
  {
   "cell_type": "markdown",
   "id": "a2760802",
   "metadata": {},
   "source": [
    "Dividexio train i test"
   ]
  },
  {
   "cell_type": "markdown",
   "id": "3787b2ff",
   "metadata": {},
   "source": [
    "MODEL DecisionTreeClassifier"
   ]
  },
  {
   "cell_type": "code",
   "execution_count": 5,
   "id": "d05b2c1a",
   "metadata": {},
   "outputs": [],
   "source": [
    "dtc = DecisionTreeClassifier()\n",
    "\n",
    "dtc = dtc.fit(X_train,y_train)\n",
    "\n",
    "y_pred_dtc = dtc.predict(X_test)"
   ]
  },
  {
   "cell_type": "markdown",
   "id": "217fb13f",
   "metadata": {},
   "source": [
    "Entreno el model amb DecisionTreeClassifier"
   ]
  },
  {
   "cell_type": "code",
   "execution_count": 6,
   "id": "da39a07e",
   "metadata": {},
   "outputs": [],
   "source": [
    "from sklearn.metrics import confusion_matrix\n",
    "y_true=y_test\n",
    "confusion_matrix_dtc=confusion_matrix(y_true, y_pred_dtc)"
   ]
  },
  {
   "cell_type": "code",
   "execution_count": 7,
   "id": "4c40a508",
   "metadata": {
    "scrolled": true
   },
   "outputs": [
    {
     "data": {
      "text/plain": [
       "<matplotlib.axes._subplots.AxesSubplot at 0x7ff3b65e9640>"
      ]
     },
     "execution_count": 7,
     "metadata": {},
     "output_type": "execute_result"
    },
    {
     "data": {
      "image/png": "[encoded data removed]",
      "text/plain": [
       "<Figure size 432x288 with 2 Axes>"
      ]
     },
     "metadata": {
      "needs_background": "light"
     },
     "output_type": "display_data"
    }
   ],
   "source": [
    "import seaborn as sns\n",
    "confusion_matrix_dtc = pd.DataFrame(confusion_matrix_dtc,\n",
    "    columns=[\"1\", \"2\", \"3\"],\n",
    "    index=[\"1\", \"2\", \"3\"]\n",
    ")\n",
    "\n",
    "sns.heatmap(confusion_matrix_dtc, annot=True)"
   ]
  },
  {
   "cell_type": "markdown",
   "id": "2ed53209",
   "metadata": {},
   "source": [
    "Faig un confussion matrix i dona dos errors, un en classificar l'1 com a 2 i en classificar 3 com a 1"
   ]
  },
  {
   "cell_type": "code",
   "execution_count": 8,
   "id": "95016122",
   "metadata": {
    "scrolled": true
   },
   "outputs": [
    {
     "name": "stdout",
     "output_type": "stream",
     "text": [
      "{'ccp_alpha': 0.0, 'class_weight': None, 'criterion': 'gini', 'max_depth': None, 'max_features': None, 'max_leaf_nodes': None, 'min_impurity_decrease': 0.0, 'min_samples_leaf': 1, 'min_samples_split': 2, 'min_weight_fraction_leaf': 0.0, 'random_state': None, 'splitter': 'best'}\n"
     ]
    }
   ],
   "source": [
    "print(dtc.get_params())"
   ]
  },
  {
   "cell_type": "markdown",
   "id": "2b6efe34",
   "metadata": {},
   "source": [
    "Faig un print dels paràmetres que s'han utilitzat per entrenar el model"
   ]
  },
  {
   "cell_type": "markdown",
   "id": "f19b1df1",
   "metadata": {},
   "source": [
    "MODEL K-nearest Neighbors (KNN)"
   ]
  },
  {
   "cell_type": "code",
   "execution_count": 9,
   "id": "a9de9311",
   "metadata": {},
   "outputs": [],
   "source": [
    "from sklearn.neighbors import KNeighborsClassifier\n",
    "\n",
    "classifier = KNeighborsClassifier()\n",
    "\n",
    "classifier=classifier.fit(X_train, y_train)\n",
    "\n",
    "y_pred_knn = classifier.predict(X_test)"
   ]
  },
  {
   "cell_type": "code",
   "execution_count": 10,
   "id": "41ca7c6e",
   "metadata": {},
   "outputs": [
    {
     "name": "stdout",
     "output_type": "stream",
     "text": [
      "{'algorithm': 'auto', 'leaf_size': 30, 'metric': 'minkowski', 'metric_params': None, 'n_jobs': None, 'n_neighbors': 5, 'p': 2, 'weights': 'uniform'}\n"
     ]
    }
   ],
   "source": [
    "print(classifier.get_params())"
   ]
  },
  {
   "cell_type": "code",
   "execution_count": 11,
   "id": "2fb2f891",
   "metadata": {},
   "outputs": [],
   "source": [
    "from sklearn.metrics import confusion_matrix"
   ]
  },
  {
   "cell_type": "markdown",
   "id": "bac11158",
   "metadata": {},
   "source": [
    "Dubte: Si no torno a imporar confusion_matrix em dóna error, perquè?"
   ]
  },
  {
   "cell_type": "code",
   "execution_count": 12,
   "id": "9a9f3cc8",
   "metadata": {},
   "outputs": [],
   "source": [
    "confusion_matrix_knn=confusion_matrix(y_true, y_pred_knn)"
   ]
  },
  {
   "cell_type": "code",
   "execution_count": 13,
   "id": "255f7583",
   "metadata": {},
   "outputs": [
    {
     "data": {
      "text/plain": [
       "<matplotlib.axes._subplots.AxesSubplot at 0x7ff3b44f2be0>"
      ]
     },
     "execution_count": 13,
     "metadata": {},
     "output_type": "execute_result"
    },
    {
     "data": {
      "image/png": "[encoded data removed]",
      "text/plain": [
       "<Figure size 432x288 with 2 Axes>"
      ]
     },
     "metadata": {
      "needs_background": "light"
     },
     "output_type": "display_data"
    }
   ],
   "source": [
    "import seaborn as sns\n",
    "confusion_matrix_knn = pd.DataFrame(confusion_matrix_knn,\n",
    "    columns=[\"1\", \"2\", \"3\"],\n",
    "    index=[\"1\", \"2\", \"3\"]\n",
    ")\n",
    "\n",
    "sns.heatmap(confusion_matrix_knn, annot=True)"
   ]
  },
  {
   "cell_type": "markdown",
   "id": "a470827d",
   "metadata": {},
   "source": [
    "En aquest cas dóna molts més errors, tenint fins a 14 errors envers els 2 de l'anterior model"
   ]
  },
  {
   "cell_type": "markdown",
   "id": "9a969552",
   "metadata": {},
   "source": [
    "\n",
    "# Exercici 2\n",
    "\n",
    "Compara els models de classificació utilitzant la precisió (accuracy), una matriu de confusió i d’altres mètriques més avançades."
   ]
  },
  {
   "cell_type": "code",
   "execution_count": 14,
   "id": "98d11518",
   "metadata": {},
   "outputs": [
    {
     "name": "stdout",
     "output_type": "stream",
     "text": [
      "acc_dtc: 0.9444444444444444\n",
      "acc_knn: 0.7407407407407407\n"
     ]
    }
   ],
   "source": [
    "from sklearn.metrics import accuracy_score, recall_score, f1_score, roc_auc_score\n",
    "# Calcular la precisió per a cada model\n",
    "acc_dtc = accuracy_score(y_test, y_pred_dtc)\n",
    "acc_knn = accuracy_score(y_test, y_pred_knn)\n",
    "print ('acc_dtc:', acc_dtc)\n",
    "print ('acc_knn:',acc_knn)"
   ]
  },
  {
   "cell_type": "code",
   "execution_count": 15,
   "id": "641dfd4f",
   "metadata": {},
   "outputs": [
    {
     "name": "stdout",
     "output_type": "stream",
     "text": [
      "rec_dtc_micro: 0.9444444444444444\n",
      "rec_knn_micro: 0.7407407407407407\n"
     ]
    }
   ],
   "source": [
    "# Calcular la sensibilitat per a cada model (micro)\n",
    "rec_dtc_micro = recall_score(y_test, y_pred_dtc, average='micro')\n",
    "rec_knn_micro = recall_score(y_test, y_pred_knn, average='micro')\n",
    "print ('rec_dtc_micro:', rec_dtc_micro)\n",
    "print ('rec_knn_micro:',rec_knn_micro)"
   ]
  },
  {
   "cell_type": "code",
   "execution_count": 16,
   "id": "fe515a80",
   "metadata": {},
   "outputs": [
    {
     "name": "stdout",
     "output_type": "stream",
     "text": [
      "rec_dtc_macro: 0.9411027568922306\n",
      "rec_knn_macro: 0.7268170426065163\n"
     ]
    }
   ],
   "source": [
    "# Calcular la sensibilitat per a cada model (macro)\n",
    "rec_dtc_macro = recall_score(y_test, y_pred_dtc, average='macro')\n",
    "rec_knn_macro = recall_score(y_test, y_pred_knn, average='macro')\n",
    "print ('rec_dtc_macro:', rec_dtc_macro)\n",
    "print ('rec_knn_macro:', rec_knn_macro)"
   ]
  },
  {
   "cell_type": "code",
   "execution_count": 17,
   "id": "b1a3ea03",
   "metadata": {},
   "outputs": [
    {
     "name": "stdout",
     "output_type": "stream",
     "text": [
      "f1_dtc_micro: 0.9444444444444444\n",
      "f1_knn_micro: 0.7407407407407407\n"
     ]
    }
   ],
   "source": [
    "#Calcular l'indicador F1 per a cada model (micro)\n",
    "f1_dtc_micro = f1_score(y_test, y_pred_dtc,average='micro')\n",
    "f1_knn_micro = f1_score(y_test, y_pred_knn, average='micro')\n",
    "print ('f1_dtc_micro:', f1_dtc_micro)\n",
    "print ('f1_knn_micro:',f1_knn_micro)"
   ]
  },
  {
   "cell_type": "markdown",
   "id": "3ade76d1",
   "metadata": {},
   "source": [
    "Dubte: perquè em dóna el mateix resultat accuracy, recall score micro i f1 micro ?"
   ]
  },
  {
   "cell_type": "code",
   "execution_count": 18,
   "id": "9654ff6a",
   "metadata": {},
   "outputs": [
    {
     "name": "stdout",
     "output_type": "stream",
     "text": [
      "f1_dtc_macro: 0.945475778809112\n",
      "f1_knn_macro: 0.7260560990364894\n"
     ]
    }
   ],
   "source": [
    "#Calcular l'indicador F1 per a cada model (macro)\n",
    "f1_dtc_macro = f1_score(y_test, y_pred_dtc,average='macro')\n",
    "f1_knn_macro = f1_score(y_test, y_pred_knn, average='macro')\n",
    "print ('f1_dtc_macro:', f1_dtc_macro)\n",
    "print ('f1_knn_macro:', f1_knn_macro)"
   ]
  },
  {
   "cell_type": "code",
   "execution_count": 19,
   "id": "faec89d0",
   "metadata": {},
   "outputs": [
    {
     "data": {
      "text/html": [
       "<div>\n",
       "<style scoped>\n",
       "    .dataframe tbody tr th:only-of-type {\n",
       "        vertical-align: middle;\n",
       "    }\n",
       "\n",
       "    .dataframe tbody tr th {\n",
       "        vertical-align: top;\n",
       "    }\n",
       "\n",
       "    .dataframe thead th {\n",
       "        text-align: right;\n",
       "    }\n",
       "</style>\n",
       "<table border=\"1\" class=\"dataframe\">\n",
       "  <thead>\n",
       "    <tr style=\"text-align: right;\">\n",
       "      <th></th>\n",
       "      <th>Mètodes</th>\n",
       "      <th>DecisionTreeClassifier</th>\n",
       "      <th>KNN</th>\n",
       "    </tr>\n",
       "  </thead>\n",
       "  <tbody>\n",
       "    <tr>\n",
       "      <th>0</th>\n",
       "      <td>Accuracy</td>\n",
       "      <td>0.944444</td>\n",
       "      <td>0.740741</td>\n",
       "    </tr>\n",
       "    <tr>\n",
       "      <th>1</th>\n",
       "      <td>Sensibilitat (Macro)</td>\n",
       "      <td>0.941103</td>\n",
       "      <td>0.726817</td>\n",
       "    </tr>\n",
       "    <tr>\n",
       "      <th>2</th>\n",
       "      <td>F1(Macro)</td>\n",
       "      <td>0.945476</td>\n",
       "      <td>0.726056</td>\n",
       "    </tr>\n",
       "  </tbody>\n",
       "</table>\n",
       "</div>"
      ],
      "text/plain": [
       "                Mètodes  DecisionTreeClassifier       KNN\n",
       "0              Accuracy                0.944444  0.740741\n",
       "1  Sensibilitat (Macro)                0.941103  0.726817\n",
       "2             F1(Macro)                0.945476  0.726056"
      ]
     },
     "execution_count": 19,
     "metadata": {},
     "output_type": "execute_result"
    }
   ],
   "source": [
    "df_compar= pd.DataFrame()\n",
    "df_compar ['Mètodes']= 'Accuracy','Sensibilitat (Macro)','F1(Macro)'\n",
    "df_compar['DecisionTreeClassifier']= acc_dtc, rec_dtc_macro, f1_dtc_macro\n",
    "df_compar['KNN']= acc_knn, rec_knn_macro, f1_knn_macro\n",
    "df_compar"
   ]
  },
  {
   "cell_type": "code",
   "execution_count": 20,
   "id": "5060e3c9",
   "metadata": {},
   "outputs": [],
   "source": [
    "acc_dtc_st=acc_dtc\n",
    "rec_dtc_macro_st=rec_dtc_macro\n",
    "f1_dtc_macro_st=f1_dtc_macro\n",
    "acc_knn_st=acc_knn\n",
    "rec_knn_macro_st=rec_knn_macro\n",
    "f1_knn_macro_st=f1_knn_macro"
   ]
  },
  {
   "cell_type": "markdown",
   "id": "db12fde8",
   "metadata": {},
   "source": [
    "Es veu clarament com DecissionTreeClassifier té uns molt millors resultats en totes les mètriques que KNN"
   ]
  },
  {
   "cell_type": "markdown",
   "id": "4744d2ba",
   "metadata": {},
   "source": [
    "# Exercici 3\n",
    "\n",
    "Entrena’ls usant els diferents paràmetres que admeten per tal de millorar-ne la predicció."
   ]
  },
  {
   "cell_type": "markdown",
   "id": "83f60000",
   "metadata": {},
   "source": [
    "DecisionTreeClassifier"
   ]
  },
  {
   "cell_type": "code",
   "execution_count": 21,
   "id": "f1c0729c",
   "metadata": {},
   "outputs": [
    {
     "data": {
      "text/plain": [
       "{'criterion': 'gini',\n",
       " 'max_depth': 5,\n",
       " 'max_features': 3,\n",
       " 'min_samples_leaf': 4,\n",
       " 'min_samples_split': 3,\n",
       " 'random_state': 42}"
      ]
     },
     "execution_count": 21,
     "metadata": {},
     "output_type": "execute_result"
    }
   ],
   "source": [
    "from sklearn.tree import DecisionTreeClassifier\n",
    "from sklearn.model_selection import GridSearchCV\n",
    "parameters = {'max_depth': [5,6,7,8,9,10,11,12,15],\n",
    "              'min_samples_split': [3,4,5,6,7,8,10,13,14,15,16,17,18],\n",
    "              'criterion': ['gini', 'entropy'],\n",
    "             'min_samples_leaf':[3,4,5,6,7,],\n",
    "             'max_features':[1,3,4,5,6,7,9,11,13],\n",
    "             'random_state':[42]}\n",
    "dtc = DecisionTreeClassifier()\n",
    "grid_search = GridSearchCV(dtc, parameters, cv=5)\n",
    "grid_search.fit(X, y)\n",
    "best_params = grid_search.best_params_\n",
    "best_score = grid_search.best_score_\n",
    "best_estimator = grid_search.best_estimator_\n",
    "best_params"
   ]
  },
  {
   "cell_type": "code",
   "execution_count": 22,
   "id": "d246362b",
   "metadata": {},
   "outputs": [
    {
     "data": {
      "text/plain": [
       "<matplotlib.axes._subplots.AxesSubplot at 0x7ff3b3e5bbe0>"
      ]
     },
     "execution_count": 22,
     "metadata": {},
     "output_type": "execute_result"
    },
    {
     "data": {
      "image/png": "[encoded data removed]",
      "text/plain": [
       "<Figure size 432x288 with 2 Axes>"
      ]
     },
     "metadata": {
      "needs_background": "light"
     },
     "output_type": "display_data"
    }
   ],
   "source": [
    "dtc = DecisionTreeClassifier(criterion='gini',\n",
    "                                max_depth= 5, \n",
    "                                max_features=3,\n",
    "                                  min_samples_leaf=4,\n",
    "                                min_samples_split=3,\n",
    "                               random_state=42)\n",
    "\n",
    "dtc= dtc.fit(X_train,y_train)\n",
    "\n",
    "y_pred_dtc = dtc.predict(X_test)\n",
    "y_true=y_test\n",
    "confusion_matrix_dtc=confusion_matrix(y_true, y_pred_dtc)\n",
    "confusion_matrix_dtc_gs = pd.DataFrame(confusion_matrix_dtc,\n",
    "    columns=[\"1\", \"2\", \"3\"],\n",
    "    index=[\"1\", \"2\", \"3\"]\n",
    ")\n",
    "\n",
    "sns.heatmap(confusion_matrix_dtc, annot=True)"
   ]
  },
  {
   "cell_type": "code",
   "execution_count": 23,
   "id": "261be6a1",
   "metadata": {},
   "outputs": [
    {
     "data": {
      "text/plain": [
       "{'criterion': 'entropy',\n",
       " 'max_depth': 3,\n",
       " 'max_features': None,\n",
       " 'min_samples_leaf': 3,\n",
       " 'min_samples_split': 2,\n",
       " 'random_state': 42}"
      ]
     },
     "execution_count": 23,
     "metadata": {},
     "output_type": "execute_result"
    }
   ],
   "source": [
    "from sklearn.tree import DecisionTreeClassifier\n",
    "from sklearn.model_selection import GridSearchCV\n",
    "parameters = {'criterion': ['gini', 'entropy'], 'max_depth': [3, 5, 7], \n",
    "              'min_samples_split': [2, 4, 6], 'min_samples_leaf': [1, 3, 5], \n",
    "              'max_features': [None, 'sqrt', 'log2'],\n",
    "             'random_state':[42]}\n",
    "dtc = DecisionTreeClassifier()\n",
    "grid_search = GridSearchCV(dtc, parameters, cv=5)\n",
    "grid_search.fit(X, y)\n",
    "best_params = grid_search.best_params_\n",
    "best_score = grid_search.best_score_\n",
    "best_estimator = grid_search.best_estimator_\n",
    "best_params"
   ]
  },
  {
   "cell_type": "code",
   "execution_count": 24,
   "id": "332ea3a6",
   "metadata": {},
   "outputs": [
    {
     "data": {
      "text/plain": [
       "<matplotlib.axes._subplots.AxesSubplot at 0x7ff3b2ac4f70>"
      ]
     },
     "execution_count": 24,
     "metadata": {},
     "output_type": "execute_result"
    },
    {
     "data": {
      "image/png": "[encoded data removed]",
      "text/plain": [
       "<Figure size 432x288 with 2 Axes>"
      ]
     },
     "metadata": {
      "needs_background": "light"
     },
     "output_type": "display_data"
    }
   ],
   "source": [
    "dtc = DecisionTreeClassifier(criterion='entropy',\n",
    "                                max_depth= 3, \n",
    "                                  min_samples_leaf=3,\n",
    "                                min_samples_split=2,\n",
    "                              random_state=42)\n",
    "\n",
    "dtc = dtc.fit(X_train,y_train)\n",
    "\n",
    "y_pred_dtc = dtc.predict(X_test)\n",
    "y_true=y_test\n",
    "confusion_matrix_dtc=confusion_matrix(y_true, y_pred_dtc)\n",
    "confusion_matrix_dtc = pd.DataFrame(confusion_matrix_dtc,\n",
    "    columns=[\"1\", \"2\", \"3\"],\n",
    "    index=[\"1\", \"2\", \"3\"]\n",
    ")\n",
    "\n",
    "sns.heatmap(confusion_matrix_dtc_gs, annot=True)"
   ]
  },
  {
   "cell_type": "markdown",
   "id": "ca51f974",
   "metadata": {},
   "source": [
    "Faig un GrdiSearchCV amb diferents paràtres i em dóna els anteriors paràmetres com els més adequats, he anat afegint valors propers als que m'anava donant per tal de millorar el resultat (sense massa èxit ja que ha empitjorat)"
   ]
  },
  {
   "cell_type": "markdown",
   "id": "4b8bb0fc",
   "metadata": {},
   "source": [
    "MODEL KNN"
   ]
  },
  {
   "cell_type": "code",
   "execution_count": 25,
   "id": "167b26e6",
   "metadata": {},
   "outputs": [
    {
     "data": {
      "text/plain": [
       "{'algorithm': 'ball_tree',\n",
       " 'leaf_size': 20,\n",
       " 'n_neighbors': 3,\n",
       " 'weights': 'distance'}"
      ]
     },
     "execution_count": 25,
     "metadata": {},
     "output_type": "execute_result"
    }
   ],
   "source": [
    "from sklearn.neighbors import KNeighborsClassifier\n",
    "parameters = {'n_neighbors': [3, 5, 7], 'weights': ['uniform', 'distance'], \n",
    "              'algorithm': ['ball_tree', 'kd_tree'], 'leaf_size': [20, 30]}\n",
    "knn = KNeighborsClassifier()\n",
    "grid_search = GridSearchCV(knn, parameters, cv=5)\n",
    "grid_search.fit(X, y)\n",
    "best_params = grid_search.best_params_\n",
    "best_score = grid_search.best_score_\n",
    "best_estimator = grid_search.best_estimator_\n",
    "best_params"
   ]
  },
  {
   "cell_type": "code",
   "execution_count": 26,
   "id": "71c101f6",
   "metadata": {},
   "outputs": [
    {
     "data": {
      "text/plain": [
       "<matplotlib.axes._subplots.AxesSubplot at 0x7ff3b20fee50>"
      ]
     },
     "execution_count": 26,
     "metadata": {},
     "output_type": "execute_result"
    },
    {
     "data": {
      "image/png": "[encoded data removed]",
      "text/plain": [
       "<Figure size 432x288 with 2 Axes>"
      ]
     },
     "metadata": {
      "needs_background": "light"
     },
     "output_type": "display_data"
    }
   ],
   "source": [
    "knn = KNeighborsClassifier (algorithm='ball_tree',\n",
    "                               leaf_size=20,\n",
    "                                n_neighbors=4,\n",
    "                                weights= 'distance',\n",
    "                             \n",
    "                               )\n",
    "\n",
    "knn = knn.fit(X_train,y_train)\n",
    "\n",
    "y_pred_knn = knn.predict(X_test)\n",
    "y_true=y_test\n",
    "confusion_matrix_knn=confusion_matrix(y_true, y_pred_knn)\n",
    "confusion_matrix_knn = pd.DataFrame(confusion_matrix_knn,\n",
    "    columns=[\"1\", \"2\", \"3\"],\n",
    "    index=[\"1\", \"2\", \"3\"]\n",
    ")\n",
    "\n",
    "sns.heatmap(confusion_matrix_knn, annot=True)"
   ]
  },
  {
   "cell_type": "markdown",
   "id": "71081ac2",
   "metadata": {},
   "source": [
    "En aquest cas he pogut fer una petita millora, ja que sense el GridSearch tenia 14 errors i ara en tinc 13. Es manté la classificació en el grup 3 on el marge d'error és més gran"
   ]
  },
  {
   "cell_type": "markdown",
   "id": "0bf2c8f5",
   "metadata": {},
   "source": [
    "\n",
    "    Exercici 4\n",
    "\n",
    "Compara el seu rendiment fent servir l’aproximació traint/test o cross-validation."
   ]
  },
  {
   "cell_type": "code",
   "execution_count": 27,
   "id": "72226c6f",
   "metadata": {},
   "outputs": [
    {
     "name": "stdout",
     "output_type": "stream",
     "text": [
      "acc_dtc: 0.8518518518518519\n",
      "acc_knn: 0.7592592592592593\n"
     ]
    }
   ],
   "source": [
    "from sklearn.metrics import accuracy_score, recall_score, f1_score, roc_auc_score\n",
    "# Calcular la precisió per a cada model\n",
    "acc_dtc = accuracy_score(y_test, y_pred_dtc)\n",
    "acc_knn = accuracy_score(y_test, y_pred_knn)\n",
    "print ('acc_dtc:', acc_dtc)\n",
    "print ('acc_knn:',acc_knn)"
   ]
  },
  {
   "cell_type": "code",
   "execution_count": 28,
   "id": "ca8e76f8",
   "metadata": {},
   "outputs": [
    {
     "name": "stdout",
     "output_type": "stream",
     "text": [
      "rec_dtc_micro: 0.8518518518518519\n",
      "rec_knn_micro: 0.7592592592592593\n"
     ]
    }
   ],
   "source": [
    "# Calcular la sensibilitat per a cada model (micro)\n",
    "rec_dtc_micro = recall_score(y_test, y_pred_dtc, average='micro')\n",
    "rec_knn_micro = recall_score(y_test, y_pred_knn, average='micro')\n",
    "print ('rec_dtc_micro:', rec_dtc_micro)\n",
    "print ('rec_knn_micro:',rec_knn_micro)"
   ]
  },
  {
   "cell_type": "code",
   "execution_count": 29,
   "id": "fb6d8a3e",
   "metadata": {},
   "outputs": [
    {
     "name": "stdout",
     "output_type": "stream",
     "text": [
      "rec_dtc_macro: 0.8458646616541353\n",
      "rec_knn_macro: 0.7426900584795323\n"
     ]
    }
   ],
   "source": [
    "# Calcular la sensibilitat per a cada model (macro)\n",
    "rec_dtc_macro = recall_score(y_test, y_pred_dtc, average='macro')\n",
    "rec_knn_macro = recall_score(y_test, y_pred_knn, average='macro')\n",
    "print ('rec_dtc_macro:', rec_dtc_macro)\n",
    "print ('rec_knn_macro:', rec_knn_macro)"
   ]
  },
  {
   "cell_type": "code",
   "execution_count": 30,
   "id": "e0269a5c",
   "metadata": {},
   "outputs": [
    {
     "name": "stdout",
     "output_type": "stream",
     "text": [
      "f1_dtc_micro: 0.8518518518518519\n",
      "f1_knn_micro: 0.7592592592592593\n"
     ]
    }
   ],
   "source": [
    "#Calcular l'indicador F1 per a cada model (micro)\n",
    "f1_dtc_micro = f1_score(y_test, y_pred_dtc,average='micro')\n",
    "f1_knn_micro = f1_score(y_test, y_pred_knn, average='micro')\n",
    "print ('f1_dtc_micro:', f1_dtc_micro)\n",
    "print ('f1_knn_micro:',f1_knn_micro)"
   ]
  },
  {
   "cell_type": "markdown",
   "id": "9ed74856",
   "metadata": {},
   "source": [
    "Dubte: perquè em dóna el mateix resultat accuracy, recall score micro i f1 micro ?"
   ]
  },
  {
   "cell_type": "code",
   "execution_count": 31,
   "id": "0cc930ff",
   "metadata": {},
   "outputs": [
    {
     "name": "stdout",
     "output_type": "stream",
     "text": [
      "f1_dtc_macro: 0.8510989010989012\n",
      "f1_knn_macro: 0.7441826062515716\n"
     ]
    }
   ],
   "source": [
    "#Calcular l'indicador F1 per a cada model (macro)\n",
    "f1_dtc_macro = f1_score(y_test, y_pred_dtc,average='macro')\n",
    "f1_knn_macro = f1_score(y_test, y_pred_knn, average='macro')\n",
    "print ('f1_dtc_macro:', f1_dtc_macro)\n",
    "print ('f1_knn_macro:', f1_knn_macro)"
   ]
  },
  {
   "cell_type": "code",
   "execution_count": 32,
   "id": "5bb15f28",
   "metadata": {},
   "outputs": [
    {
     "data": {
      "text/html": [
       "<div>\n",
       "<style scoped>\n",
       "    .dataframe tbody tr th:only-of-type {\n",
       "        vertical-align: middle;\n",
       "    }\n",
       "\n",
       "    .dataframe tbody tr th {\n",
       "        vertical-align: top;\n",
       "    }\n",
       "\n",
       "    .dataframe thead th {\n",
       "        text-align: right;\n",
       "    }\n",
       "</style>\n",
       "<table border=\"1\" class=\"dataframe\">\n",
       "  <thead>\n",
       "    <tr style=\"text-align: right;\">\n",
       "      <th></th>\n",
       "      <th>Mètodes</th>\n",
       "      <th>DecisionTreeClassifier</th>\n",
       "      <th>KNN</th>\n",
       "    </tr>\n",
       "  </thead>\n",
       "  <tbody>\n",
       "    <tr>\n",
       "      <th>0</th>\n",
       "      <td>Accuracy</td>\n",
       "      <td>0.851852</td>\n",
       "      <td>0.759259</td>\n",
       "    </tr>\n",
       "    <tr>\n",
       "      <th>1</th>\n",
       "      <td>Sensibilitat (Macro)</td>\n",
       "      <td>0.845865</td>\n",
       "      <td>0.742690</td>\n",
       "    </tr>\n",
       "    <tr>\n",
       "      <th>2</th>\n",
       "      <td>F1(Macro)</td>\n",
       "      <td>0.851099</td>\n",
       "      <td>0.744183</td>\n",
       "    </tr>\n",
       "  </tbody>\n",
       "</table>\n",
       "</div>"
      ],
      "text/plain": [
       "                Mètodes  DecisionTreeClassifier       KNN\n",
       "0              Accuracy                0.851852  0.759259\n",
       "1  Sensibilitat (Macro)                0.845865  0.742690\n",
       "2             F1(Macro)                0.851099  0.744183"
      ]
     },
     "execution_count": 32,
     "metadata": {},
     "output_type": "execute_result"
    }
   ],
   "source": [
    "df_compar= pd.DataFrame()\n",
    "df_compar ['Mètodes']= 'Accuracy','Sensibilitat (Macro)','F1(Macro)'\n",
    "df_compar['DecisionTreeClassifier']= acc_dtc, rec_dtc_macro, f1_dtc_macro\n",
    "df_compar['KNN']= acc_knn, rec_knn_macro, f1_knn_macro\n",
    "df_compar"
   ]
  },
  {
   "cell_type": "markdown",
   "id": "7e342c33",
   "metadata": {},
   "source": [
    "En aquest cas ha empitjorat en totes les mètriques (com ja haviem vist abans ens les matrius de confusió) i KNN té una petita millora també en totes les mètriques"
   ]
  },
  {
   "cell_type": "code",
   "execution_count": 33,
   "id": "b06c0092",
   "metadata": {},
   "outputs": [],
   "source": [
    "acc_dtc_gd=acc_dtc\n",
    "rec_dtc_macro_gd=rec_dtc_macro\n",
    "f1_dtc_macro_gd=f1_dtc_macro\n",
    "acc_knn_gd=acc_knn\n",
    "rec_knn_macro_gd=rec_knn_macro\n",
    "f1_knn_macro_gd=f1_knn_macro"
   ]
  },
  {
   "cell_type": "markdown",
   "id": "45138388",
   "metadata": {},
   "source": [
    "# Exercici 5\n",
    "\n",
    "Aplica algun procés d'enginyeria per millorar els resultats (normalització, estandardització, mostreig...)"
   ]
  },
  {
   "cell_type": "code",
   "execution_count": 34,
   "id": "bd274cec",
   "metadata": {},
   "outputs": [],
   "source": [
    "import pandas as pd\n",
    "from sklearn.tree import DecisionTreeClassifier # Import Decision Tree Classifier\n",
    "from sklearn.model_selection import train_test_split # Import train_test_split function\n",
    "from sklearn import metrics #Import scikit-learn metrics module for accuracy calculation\n",
    "import matplotlib.pyplot as plt\n",
    "from sklearn.metrics import confusion_matrix\n",
    "df = pd.read_csv ('wineData.txt', names= ['Alcohol','Ácido málico', 'Cenizas', 'Alcalinidad de la ceniza','Magnesio','Fenoles totales','Flavanoides','Fenoles no flavonoides','Proantocianinas','Intensidad del color','Tonalidad','DO280/OD315 de los vinos diluidos','Prolina'])"
   ]
  },
  {
   "cell_type": "code",
   "execution_count": 35,
   "id": "52822c3d",
   "metadata": {},
   "outputs": [
    {
     "data": {
      "text/html": [
       "<div>\n",
       "<style scoped>\n",
       "    .dataframe tbody tr th:only-of-type {\n",
       "        vertical-align: middle;\n",
       "    }\n",
       "\n",
       "    .dataframe tbody tr th {\n",
       "        vertical-align: top;\n",
       "    }\n",
       "\n",
       "    .dataframe thead th {\n",
       "        text-align: right;\n",
       "    }\n",
       "</style>\n",
       "<table border=\"1\" class=\"dataframe\">\n",
       "  <thead>\n",
       "    <tr style=\"text-align: right;\">\n",
       "      <th></th>\n",
       "      <th>Clases</th>\n",
       "      <th>Alcohol</th>\n",
       "      <th>Ácido málico</th>\n",
       "      <th>Cenizas</th>\n",
       "      <th>Alcalinidad de la ceniza</th>\n",
       "      <th>Magnesio</th>\n",
       "      <th>Fenoles totales</th>\n",
       "      <th>Flavanoides</th>\n",
       "      <th>Fenoles no flavonoides</th>\n",
       "      <th>Proantocianinas</th>\n",
       "      <th>Intensidad del color</th>\n",
       "      <th>Tonalidad</th>\n",
       "      <th>DO280/OD315 de los vinos diluidos</th>\n",
       "      <th>Prolina</th>\n",
       "    </tr>\n",
       "  </thead>\n",
       "  <tbody>\n",
       "    <tr>\n",
       "      <th>0</th>\n",
       "      <td>1</td>\n",
       "      <td>14.23</td>\n",
       "      <td>1.71</td>\n",
       "      <td>2.43</td>\n",
       "      <td>15.6</td>\n",
       "      <td>127</td>\n",
       "      <td>2.80</td>\n",
       "      <td>3.06</td>\n",
       "      <td>0.28</td>\n",
       "      <td>2.29</td>\n",
       "      <td>5.64</td>\n",
       "      <td>1.04</td>\n",
       "      <td>3.92</td>\n",
       "      <td>1065</td>\n",
       "    </tr>\n",
       "    <tr>\n",
       "      <th>1</th>\n",
       "      <td>1</td>\n",
       "      <td>13.20</td>\n",
       "      <td>1.78</td>\n",
       "      <td>2.14</td>\n",
       "      <td>11.2</td>\n",
       "      <td>100</td>\n",
       "      <td>2.65</td>\n",
       "      <td>2.76</td>\n",
       "      <td>0.26</td>\n",
       "      <td>1.28</td>\n",
       "      <td>4.38</td>\n",
       "      <td>1.05</td>\n",
       "      <td>3.40</td>\n",
       "      <td>1050</td>\n",
       "    </tr>\n",
       "    <tr>\n",
       "      <th>2</th>\n",
       "      <td>1</td>\n",
       "      <td>13.16</td>\n",
       "      <td>2.36</td>\n",
       "      <td>2.67</td>\n",
       "      <td>18.6</td>\n",
       "      <td>101</td>\n",
       "      <td>2.80</td>\n",
       "      <td>3.24</td>\n",
       "      <td>0.30</td>\n",
       "      <td>2.81</td>\n",
       "      <td>5.68</td>\n",
       "      <td>1.03</td>\n",
       "      <td>3.17</td>\n",
       "      <td>1185</td>\n",
       "    </tr>\n",
       "    <tr>\n",
       "      <th>3</th>\n",
       "      <td>1</td>\n",
       "      <td>14.37</td>\n",
       "      <td>1.95</td>\n",
       "      <td>2.50</td>\n",
       "      <td>16.8</td>\n",
       "      <td>113</td>\n",
       "      <td>3.85</td>\n",
       "      <td>3.49</td>\n",
       "      <td>0.24</td>\n",
       "      <td>2.18</td>\n",
       "      <td>7.80</td>\n",
       "      <td>0.86</td>\n",
       "      <td>3.45</td>\n",
       "      <td>1480</td>\n",
       "    </tr>\n",
       "    <tr>\n",
       "      <th>4</th>\n",
       "      <td>1</td>\n",
       "      <td>13.24</td>\n",
       "      <td>2.59</td>\n",
       "      <td>2.87</td>\n",
       "      <td>21.0</td>\n",
       "      <td>118</td>\n",
       "      <td>2.80</td>\n",
       "      <td>2.69</td>\n",
       "      <td>0.39</td>\n",
       "      <td>1.82</td>\n",
       "      <td>4.32</td>\n",
       "      <td>1.04</td>\n",
       "      <td>2.93</td>\n",
       "      <td>735</td>\n",
       "    </tr>\n",
       "  </tbody>\n",
       "</table>\n",
       "</div>"
      ],
      "text/plain": [
       "   Clases  Alcohol  Ácido málico  Cenizas  Alcalinidad de la ceniza  Magnesio  \\\n",
       "0       1    14.23          1.71     2.43                      15.6       127   \n",
       "1       1    13.20          1.78     2.14                      11.2       100   \n",
       "2       1    13.16          2.36     2.67                      18.6       101   \n",
       "3       1    14.37          1.95     2.50                      16.8       113   \n",
       "4       1    13.24          2.59     2.87                      21.0       118   \n",
       "\n",
       "   Fenoles totales  Flavanoides  Fenoles no flavonoides  Proantocianinas  \\\n",
       "0             2.80         3.06                    0.28             2.29   \n",
       "1             2.65         2.76                    0.26             1.28   \n",
       "2             2.80         3.24                    0.30             2.81   \n",
       "3             3.85         3.49                    0.24             2.18   \n",
       "4             2.80         2.69                    0.39             1.82   \n",
       "\n",
       "   Intensidad del color  Tonalidad  DO280/OD315 de los vinos diluidos  Prolina  \n",
       "0                  5.64       1.04                               3.92     1065  \n",
       "1                  4.38       1.05                               3.40     1050  \n",
       "2                  5.68       1.03                               3.17     1185  \n",
       "3                  7.80       0.86                               3.45     1480  \n",
       "4                  4.32       1.04                               2.93      735  "
      ]
     },
     "execution_count": 35,
     "metadata": {},
     "output_type": "execute_result"
    }
   ],
   "source": [
    "df.reset_index(inplace=True, names='Clases')\n",
    "df.head()"
   ]
  },
  {
   "cell_type": "code",
   "execution_count": 36,
   "id": "473c5601",
   "metadata": {},
   "outputs": [],
   "source": [
    "X=df.drop(\"Clases\", axis=1)\n",
    "y=df.Clases"
   ]
  },
  {
   "cell_type": "markdown",
   "id": "bfc9e76a",
   "metadata": {},
   "source": [
    "Separo X i y"
   ]
  },
  {
   "cell_type": "code",
   "execution_count": 37,
   "id": "f4c632d1",
   "metadata": {},
   "outputs": [],
   "source": [
    "X_train, X_test, y_train, y_test = train_test_split(X, y, test_size=0.3, random_state=42) # 70% training and 30% test\n"
   ]
  },
  {
   "cell_type": "markdown",
   "id": "14bdd6fa",
   "metadata": {},
   "source": [
    "Faig un Standarscaler"
   ]
  },
  {
   "cell_type": "code",
   "execution_count": 38,
   "id": "b5f9a2c4",
   "metadata": {},
   "outputs": [],
   "source": [
    "from sklearn.preprocessing import StandardScaler\n",
    "\n",
    "scaler = StandardScaler()\n",
    "\n",
    "X_train = scaler.fit_transform(X_train)\n",
    "X_test= scaler.transform(X_test)"
   ]
  },
  {
   "cell_type": "markdown",
   "id": "9777efa0",
   "metadata": {},
   "source": [
    "MODEL DecisionTreeClassifier"
   ]
  },
  {
   "cell_type": "code",
   "execution_count": 39,
   "id": "c3bf1ce9",
   "metadata": {},
   "outputs": [],
   "source": [
    "dtc = DecisionTreeClassifier()\n",
    "\n",
    "dtc = dtc.fit(X_train,y_train)\n",
    "\n",
    "y_pred_dtc = dtc.predict(X_test)"
   ]
  },
  {
   "cell_type": "markdown",
   "id": "ba620b87",
   "metadata": {},
   "source": [
    "Entreno el model amb DecisionTreeClassifier"
   ]
  },
  {
   "cell_type": "code",
   "execution_count": 40,
   "id": "71d69f39",
   "metadata": {},
   "outputs": [],
   "source": [
    "from sklearn.metrics import confusion_matrix\n",
    "y_true=y_test\n",
    "confusion_matrix_dtc=confusion_matrix(y_true, y_pred_dtc)"
   ]
  },
  {
   "cell_type": "code",
   "execution_count": 41,
   "id": "60d0c081",
   "metadata": {
    "scrolled": true
   },
   "outputs": [
    {
     "data": {
      "text/plain": [
       "<matplotlib.axes._subplots.AxesSubplot at 0x7ff3b2aa78b0>"
      ]
     },
     "execution_count": 41,
     "metadata": {},
     "output_type": "execute_result"
    },
    {
     "data": {
      "image/png": "[encoded data removed]",
      "text/plain": [
       "<Figure size 432x288 with 2 Axes>"
      ]
     },
     "metadata": {
      "needs_background": "light"
     },
     "output_type": "display_data"
    }
   ],
   "source": [
    "import seaborn as sns\n",
    "confusion_matrix_dtc = pd.DataFrame(confusion_matrix_dtc,\n",
    "    columns=[\"1\", \"2\", \"3\"],\n",
    "    index=[\"1\", \"2\", \"3\"]\n",
    ")\n",
    "\n",
    "sns.heatmap(confusion_matrix_dtc, annot=True)"
   ]
  },
  {
   "cell_type": "markdown",
   "id": "bc8eb0b8",
   "metadata": {},
   "source": [
    "No hi ha variacions significatives sense la normalització, el nombre d'errors és el mateix però en aquest cas un valor de 3 que classificava com a 1 ara el classifica com a 2"
   ]
  },
  {
   "cell_type": "code",
   "execution_count": 42,
   "id": "ce54bcc9",
   "metadata": {
    "scrolled": true
   },
   "outputs": [
    {
     "name": "stdout",
     "output_type": "stream",
     "text": [
      "{'ccp_alpha': 0.0, 'class_weight': None, 'criterion': 'gini', 'max_depth': None, 'max_features': None, 'max_leaf_nodes': None, 'min_impurity_decrease': 0.0, 'min_samples_leaf': 1, 'min_samples_split': 2, 'min_weight_fraction_leaf': 0.0, 'random_state': None, 'splitter': 'best'}\n"
     ]
    }
   ],
   "source": [
    "print(dtc.get_params())"
   ]
  },
  {
   "cell_type": "markdown",
   "id": "4a49815a",
   "metadata": {},
   "source": [
    "Faig un print dels paràmetres que s'han utilitzat per entrenar el model"
   ]
  },
  {
   "cell_type": "markdown",
   "id": "3ad838a6",
   "metadata": {},
   "source": [
    "MODEL K-nearest Neighbors (KNN)"
   ]
  },
  {
   "cell_type": "code",
   "execution_count": 43,
   "id": "9793a602",
   "metadata": {},
   "outputs": [],
   "source": [
    "from sklearn.neighbors import KNeighborsClassifier\n",
    "\n",
    "classifier = KNeighborsClassifier()\n",
    "\n",
    "classifier=classifier.fit(X_train, y_train)\n",
    "\n",
    "y_pred_knn = classifier.predict(X_test)"
   ]
  },
  {
   "cell_type": "code",
   "execution_count": 44,
   "id": "401502ba",
   "metadata": {},
   "outputs": [
    {
     "name": "stdout",
     "output_type": "stream",
     "text": [
      "{'algorithm': 'auto', 'leaf_size': 30, 'metric': 'minkowski', 'metric_params': None, 'n_jobs': None, 'n_neighbors': 5, 'p': 2, 'weights': 'uniform'}\n"
     ]
    }
   ],
   "source": [
    "print(classifier.get_params())"
   ]
  },
  {
   "cell_type": "code",
   "execution_count": 45,
   "id": "47a93b2a",
   "metadata": {},
   "outputs": [],
   "source": [
    "from sklearn.metrics import confusion_matrix"
   ]
  },
  {
   "cell_type": "markdown",
   "id": "c7aeb92f",
   "metadata": {},
   "source": [
    "Dubte: Si no torno a imporar confusion_matrix em dóna error, perquè?"
   ]
  },
  {
   "cell_type": "code",
   "execution_count": 46,
   "id": "c0f462f8",
   "metadata": {},
   "outputs": [],
   "source": [
    "confusion_matrix_knn=confusion_matrix(y_true, y_pred_knn)"
   ]
  },
  {
   "cell_type": "code",
   "execution_count": 47,
   "id": "ffe9831c",
   "metadata": {
    "scrolled": true
   },
   "outputs": [
    {
     "data": {
      "text/plain": [
       "<matplotlib.axes._subplots.AxesSubplot at 0x7ff3b2a975e0>"
      ]
     },
     "execution_count": 47,
     "metadata": {},
     "output_type": "execute_result"
    },
    {
     "data": {
      "image/png": "[encoded data removed]",
      "text/plain": [
       "<Figure size 432x288 with 2 Axes>"
      ]
     },
     "metadata": {
      "needs_background": "light"
     },
     "output_type": "display_data"
    }
   ],
   "source": [
    "import seaborn as sns\n",
    "confusion_matrix_knn = pd.DataFrame(confusion_matrix_knn,\n",
    "    columns=[\"1\", \"2\", \"3\"],\n",
    "    index=[\"1\", \"2\", \"3\"]\n",
    ")\n",
    "\n",
    "sns.heatmap(confusion_matrix_knn, annot=True)"
   ]
  },
  {
   "cell_type": "markdown",
   "id": "b0a93f1e",
   "metadata": {},
   "source": [
    "En aquest cas la diferència és molt gran ja que passem de 14 errors a 2, un canvi molt important en la classificació del 3 ja que passem de 6 errors sobre 14 a cap error."
   ]
  },
  {
   "cell_type": "code",
   "execution_count": 48,
   "id": "2750560d",
   "metadata": {},
   "outputs": [
    {
     "name": "stdout",
     "output_type": "stream",
     "text": [
      "acc_dtc: 0.9629629629629629\n",
      "acc_knn: 0.9629629629629629\n"
     ]
    }
   ],
   "source": [
    "from sklearn.metrics import accuracy_score, recall_score, f1_score, roc_auc_score\n",
    "# Calcular la precisió per a cada model\n",
    "acc_dtc = accuracy_score(y_test, y_pred_dtc)\n",
    "acc_knn = accuracy_score(y_test, y_pred_knn)\n",
    "print ('acc_dtc:', acc_dtc)\n",
    "print ('acc_knn:',acc_knn)"
   ]
  },
  {
   "cell_type": "code",
   "execution_count": 49,
   "id": "e0b635bc",
   "metadata": {},
   "outputs": [
    {
     "name": "stdout",
     "output_type": "stream",
     "text": [
      "rec_dtc_macro: 0.9586466165413533\n",
      "rec_knn_macro: 0.9682539682539683\n"
     ]
    }
   ],
   "source": [
    "# Calcular la sensibilitat per a cada model (macro)\n",
    "rec_dtc_macro = recall_score(y_test, y_pred_dtc, average='macro')\n",
    "rec_knn_macro = recall_score(y_test, y_pred_knn, average='macro')\n",
    "print ('rec_dtc_macro:', rec_dtc_macro)\n",
    "print ('rec_knn_macro:', rec_knn_macro)"
   ]
  },
  {
   "cell_type": "code",
   "execution_count": 50,
   "id": "9bed1c1d",
   "metadata": {},
   "outputs": [
    {
     "name": "stdout",
     "output_type": "stream",
     "text": [
      "f1_dtc_macro: 0.9623585233540354\n",
      "f1_knn_macro: 0.9632920719127616\n"
     ]
    }
   ],
   "source": [
    "#Calcular l'indicador F1 per a cada model (macro)\n",
    "f1_dtc_macro = f1_score(y_test, y_pred_dtc,average='macro')\n",
    "f1_knn_macro = f1_score(y_test, y_pred_knn, average='macro')\n",
    "print ('f1_dtc_macro:', f1_dtc_macro)\n",
    "print ('f1_knn_macro:', f1_knn_macro)"
   ]
  },
  {
   "cell_type": "code",
   "execution_count": 51,
   "id": "b8e25e59",
   "metadata": {},
   "outputs": [
    {
     "data": {
      "text/html": [
       "<div>\n",
       "<style scoped>\n",
       "    .dataframe tbody tr th:only-of-type {\n",
       "        vertical-align: middle;\n",
       "    }\n",
       "\n",
       "    .dataframe tbody tr th {\n",
       "        vertical-align: top;\n",
       "    }\n",
       "\n",
       "    .dataframe thead th {\n",
       "        text-align: right;\n",
       "    }\n",
       "</style>\n",
       "<table border=\"1\" class=\"dataframe\">\n",
       "  <thead>\n",
       "    <tr style=\"text-align: right;\">\n",
       "      <th></th>\n",
       "      <th>Mètodes</th>\n",
       "      <th>DecisionTreeClassifier</th>\n",
       "      <th>KNN</th>\n",
       "    </tr>\n",
       "  </thead>\n",
       "  <tbody>\n",
       "    <tr>\n",
       "      <th>0</th>\n",
       "      <td>Accuracy</td>\n",
       "      <td>0.962963</td>\n",
       "      <td>0.962963</td>\n",
       "    </tr>\n",
       "    <tr>\n",
       "      <th>1</th>\n",
       "      <td>Sensibilitat (Macro)</td>\n",
       "      <td>0.958647</td>\n",
       "      <td>0.968254</td>\n",
       "    </tr>\n",
       "    <tr>\n",
       "      <th>2</th>\n",
       "      <td>F1(Macro)</td>\n",
       "      <td>0.962359</td>\n",
       "      <td>0.963292</td>\n",
       "    </tr>\n",
       "  </tbody>\n",
       "</table>\n",
       "</div>"
      ],
      "text/plain": [
       "                Mètodes  DecisionTreeClassifier       KNN\n",
       "0              Accuracy                0.962963  0.962963\n",
       "1  Sensibilitat (Macro)                0.958647  0.968254\n",
       "2             F1(Macro)                0.962359  0.963292"
      ]
     },
     "execution_count": 51,
     "metadata": {},
     "output_type": "execute_result"
    }
   ],
   "source": [
    "df_compar= pd.DataFrame()\n",
    "df_compar ['Mètodes']= 'Accuracy','Sensibilitat (Macro)','F1(Macro)'\n",
    "df_compar['DecisionTreeClassifier']= acc_dtc, rec_dtc_macro, f1_dtc_macro\n",
    "df_compar['KNN']= acc_knn, rec_knn_macro, f1_knn_macro\n",
    "df_compar"
   ]
  },
  {
   "cell_type": "markdown",
   "id": "8d1f53d8",
   "metadata": {},
   "source": [
    "En aquest cas DecisionTreeClassifier té una petita millora, però KNN ha millorat moltíssim, superant o DecisionTreeClassifier en totes les mètriques"
   ]
  },
  {
   "cell_type": "code",
   "execution_count": 52,
   "id": "66487903",
   "metadata": {},
   "outputs": [],
   "source": [
    "acc_dtc_sds=acc_dtc\n",
    "rec_dtc_macro_sds=rec_dtc_macro\n",
    "f1_dtc_macro_sds=f1_dtc_macro\n",
    "acc_knn_sds=acc_knn\n",
    "rec_knn_macro_sds=rec_knn_macro\n",
    "f1_knn_macro_sds=f1_knn_macro"
   ]
  },
  {
   "cell_type": "markdown",
   "id": "89b9e84a",
   "metadata": {},
   "source": [
    "# GridSearch\n",
    "\n",
    "Entrena’ls usant els diferents paràmetres que admeten per tal de millorar-ne la predicció."
   ]
  },
  {
   "cell_type": "markdown",
   "id": "170bc5b6",
   "metadata": {},
   "source": [
    "DecisionTreeClassifier"
   ]
  },
  {
   "cell_type": "code",
   "execution_count": 53,
   "id": "df13d98e",
   "metadata": {},
   "outputs": [
    {
     "data": {
      "text/plain": [
       "{'criterion': 'gini',\n",
       " 'max_depth': 5,\n",
       " 'max_features': 3,\n",
       " 'min_samples_leaf': 4,\n",
       " 'min_samples_split': 3,\n",
       " 'random_state': 42}"
      ]
     },
     "execution_count": 53,
     "metadata": {},
     "output_type": "execute_result"
    }
   ],
   "source": [
    "from sklearn.tree import DecisionTreeClassifier\n",
    "from sklearn.model_selection import GridSearchCV\n",
    "parameters = {'max_depth': [5,6,7,8,9,10,11,12,15],\n",
    "              'min_samples_split': [3,4,5,6,7,8,10,13,14,15,16,17,18],\n",
    "              'criterion': ['gini', 'entropy'],\n",
    "             'min_samples_leaf':[3,4,5,6,7,],\n",
    "             'max_features':[1,3,4,5,6,7,9,11,13],\n",
    "             'random_state':[42]}\n",
    "dtc = DecisionTreeClassifier()\n",
    "grid_search = GridSearchCV(dtc, parameters, cv=5)\n",
    "grid_search.fit(X, y)\n",
    "best_params = grid_search.best_params_\n",
    "best_score = grid_search.best_score_\n",
    "best_estimator = grid_search.best_estimator_\n",
    "best_params"
   ]
  },
  {
   "cell_type": "code",
   "execution_count": 54,
   "id": "97d8d5f9",
   "metadata": {},
   "outputs": [
    {
     "data": {
      "text/plain": [
       "<matplotlib.axes._subplots.AxesSubplot at 0x7ff3b274fd00>"
      ]
     },
     "execution_count": 54,
     "metadata": {},
     "output_type": "execute_result"
    },
    {
     "data": {
      "image/png": "[encoded data removed]",
      "text/plain": [
       "<Figure size 432x288 with 2 Axes>"
      ]
     },
     "metadata": {
      "needs_background": "light"
     },
     "output_type": "display_data"
    }
   ],
   "source": [
    "dtc = DecisionTreeClassifier(criterion='gini',\n",
    "                                max_depth= 5, \n",
    "                                max_features=3,\n",
    "                                  min_samples_leaf=4,\n",
    "                                min_samples_split=3,\n",
    "                               random_state=42)\n",
    "\n",
    "dtc= dtc.fit(X_train,y_train)\n",
    "\n",
    "y_pred_dtc = dtc.predict(X_test)\n",
    "y_true=y_test\n",
    "confusion_matrix_dtc=confusion_matrix(y_true, y_pred_dtc)\n",
    "confusion_matrix_dtc_gs = pd.DataFrame(confusion_matrix_dtc,\n",
    "    columns=[\"1\", \"2\", \"3\"],\n",
    "    index=[\"1\", \"2\", \"3\"]\n",
    ")\n",
    "\n",
    "sns.heatmap(confusion_matrix_dtc, annot=True)"
   ]
  },
  {
   "cell_type": "code",
   "execution_count": 55,
   "id": "be3bf33c",
   "metadata": {},
   "outputs": [
    {
     "data": {
      "text/plain": [
       "{'criterion': 'entropy',\n",
       " 'max_depth': 3,\n",
       " 'max_features': None,\n",
       " 'min_samples_leaf': 3,\n",
       " 'min_samples_split': 2,\n",
       " 'random_state': 42}"
      ]
     },
     "execution_count": 55,
     "metadata": {},
     "output_type": "execute_result"
    }
   ],
   "source": [
    "from sklearn.tree import DecisionTreeClassifier\n",
    "from sklearn.model_selection import GridSearchCV\n",
    "parameters = {'criterion': ['gini', 'entropy'], 'max_depth': [3, 5, 7], \n",
    "              'min_samples_split': [2, 4, 6], 'min_samples_leaf': [1, 3, 5], \n",
    "              'max_features': [None, 'sqrt', 'log2'],\n",
    "             'random_state':[42]}\n",
    "dtc = DecisionTreeClassifier()\n",
    "grid_search = GridSearchCV(dtc, parameters, cv=5)\n",
    "grid_search.fit(X, y)\n",
    "best_params = grid_search.best_params_\n",
    "best_score = grid_search.best_score_\n",
    "best_estimator = grid_search.best_estimator_\n",
    "best_params"
   ]
  },
  {
   "cell_type": "code",
   "execution_count": 56,
   "id": "f3de43a4",
   "metadata": {},
   "outputs": [
    {
     "data": {
      "text/plain": [
       "<matplotlib.axes._subplots.AxesSubplot at 0x7ff3b432dc70>"
      ]
     },
     "execution_count": 56,
     "metadata": {},
     "output_type": "execute_result"
    },
    {
     "data": {
      "image/png": "[encoded data removed]",
      "text/plain": [
       "<Figure size 432x288 with 2 Axes>"
      ]
     },
     "metadata": {
      "needs_background": "light"
     },
     "output_type": "display_data"
    }
   ],
   "source": [
    "dtc = DecisionTreeClassifier(criterion='entropy',\n",
    "                                max_depth= 3, \n",
    "                                  min_samples_leaf=3,\n",
    "                                min_samples_split=2,\n",
    "                              random_state=42)\n",
    "\n",
    "dtc = dtc.fit(X_train,y_train)\n",
    "\n",
    "y_pred_dtc = dtc.predict(X_test)\n",
    "y_true=y_test\n",
    "confusion_matrix_dtc=confusion_matrix(y_true, y_pred_dtc)\n",
    "confusion_matrix_dtc = pd.DataFrame(confusion_matrix_dtc,\n",
    "    columns=[\"1\", \"2\", \"3\"],\n",
    "    index=[\"1\", \"2\", \"3\"]\n",
    ")\n",
    "\n",
    "sns.heatmap(confusion_matrix_dtc_gs, annot=True)"
   ]
  },
  {
   "cell_type": "markdown",
   "id": "7a2014c6",
   "metadata": {},
   "source": [
    "Els resultats han empitjorat envers els realitzats sense GridSearch"
   ]
  },
  {
   "cell_type": "markdown",
   "id": "462cfd6a",
   "metadata": {},
   "source": [
    "MODEL KNN"
   ]
  },
  {
   "cell_type": "code",
   "execution_count": 57,
   "id": "64ccf70f",
   "metadata": {},
   "outputs": [
    {
     "data": {
      "text/plain": [
       "{'algorithm': 'ball_tree',\n",
       " 'leaf_size': 20,\n",
       " 'n_neighbors': 3,\n",
       " 'weights': 'distance'}"
      ]
     },
     "execution_count": 57,
     "metadata": {},
     "output_type": "execute_result"
    }
   ],
   "source": [
    "from sklearn.neighbors import KNeighborsClassifier\n",
    "parameters = {'n_neighbors': [3, 5, 7], 'weights': ['uniform', 'distance'], \n",
    "              'algorithm': ['ball_tree', 'kd_tree'], 'leaf_size': [20, 30]}\n",
    "knn = KNeighborsClassifier()\n",
    "grid_search = GridSearchCV(knn, parameters, cv=5)\n",
    "grid_search.fit(X, y)\n",
    "best_params = grid_search.best_params_\n",
    "best_score = grid_search.best_score_\n",
    "best_estimator = grid_search.best_estimator_\n",
    "best_params"
   ]
  },
  {
   "cell_type": "code",
   "execution_count": 104,
   "id": "2d0a3b2d",
   "metadata": {},
   "outputs": [
    {
     "data": {
      "text/plain": [
       "<matplotlib.axes._subplots.AxesSubplot at 0x7ff3b3887400>"
      ]
     },
     "execution_count": 104,
     "metadata": {},
     "output_type": "execute_result"
    },
    {
     "data": {
      "image/png": "[encoded data removed]",
      "text/plain": [
       "<Figure size 576x360 with 2 Axes>"
      ]
     },
     "metadata": {},
     "output_type": "display_data"
    }
   ],
   "source": [
    "knn = KNeighborsClassifier (algorithm='ball_tree',\n",
    "                               leaf_size=20,\n",
    "                                n_neighbors=5,\n",
    "                                weights= 'distance',\n",
    "                             \n",
    "                               )\n",
    "\n",
    "knn = knn.fit(X_train,y_train)\n",
    "\n",
    "y_pred_knn = knn.predict(X_test)\n",
    "y_true=y_test\n",
    "confusion_matrix_knn=confusion_matrix(y_true, y_pred_knn)\n",
    "confusion_matrix_knn = pd.DataFrame(confusion_matrix_knn,\n",
    "    columns=[\"1\", \"2\", \"3\"],\n",
    "    index=[\"1\", \"2\", \"3\"]\n",
    ")\n",
    "\n",
    "sns.heatmap(confusion_matrix_knn, annot=True)"
   ]
  },
  {
   "cell_type": "markdown",
   "id": "c5cb2314",
   "metadata": {},
   "source": [
    "Es mantenen els resultats aconseguits sense el GridSearch"
   ]
  },
  {
   "cell_type": "code",
   "execution_count": 59,
   "id": "5537e457",
   "metadata": {},
   "outputs": [
    {
     "name": "stdout",
     "output_type": "stream",
     "text": [
      "acc_dtc: 0.8518518518518519\n",
      "acc_knn: 0.9629629629629629\n"
     ]
    }
   ],
   "source": [
    "from sklearn.metrics import accuracy_score, recall_score, f1_score, roc_auc_score\n",
    "# Calcular la precisió per a cada model\n",
    "acc_dtc = accuracy_score(y_test, y_pred_dtc)\n",
    "acc_knn = accuracy_score(y_test, y_pred_knn)\n",
    "print ('acc_dtc:', acc_dtc)\n",
    "print ('acc_knn:',acc_knn)"
   ]
  },
  {
   "cell_type": "code",
   "execution_count": 60,
   "id": "5ff28068",
   "metadata": {},
   "outputs": [
    {
     "name": "stdout",
     "output_type": "stream",
     "text": [
      "rec_dtc_macro: 0.8458646616541353\n",
      "rec_knn_macro: 0.9682539682539683\n"
     ]
    }
   ],
   "source": [
    "# Calcular la sensibilitat per a cada model (macro)\n",
    "rec_dtc_macro = recall_score(y_test, y_pred_dtc, average='macro')\n",
    "rec_knn_macro = recall_score(y_test, y_pred_knn, average='macro')\n",
    "print ('rec_dtc_macro:', rec_dtc_macro)\n",
    "print ('rec_knn_macro:', rec_knn_macro)"
   ]
  },
  {
   "cell_type": "code",
   "execution_count": 61,
   "id": "c3616b8d",
   "metadata": {},
   "outputs": [
    {
     "name": "stdout",
     "output_type": "stream",
     "text": [
      "f1_dtc_macro: 0.8510989010989012\n",
      "f1_knn_macro: 0.9632920719127616\n"
     ]
    }
   ],
   "source": [
    "#Calcular l'indicador F1 per a cada model (macro)\n",
    "f1_dtc_macro = f1_score(y_test, y_pred_dtc,average='macro')\n",
    "f1_knn_macro = f1_score(y_test, y_pred_knn, average='macro')\n",
    "print ('f1_dtc_macro:', f1_dtc_macro)\n",
    "print ('f1_knn_macro:', f1_knn_macro)"
   ]
  },
  {
   "cell_type": "code",
   "execution_count": 62,
   "id": "1840493a",
   "metadata": {},
   "outputs": [
    {
     "data": {
      "text/html": [
       "<div>\n",
       "<style scoped>\n",
       "    .dataframe tbody tr th:only-of-type {\n",
       "        vertical-align: middle;\n",
       "    }\n",
       "\n",
       "    .dataframe tbody tr th {\n",
       "        vertical-align: top;\n",
       "    }\n",
       "\n",
       "    .dataframe thead th {\n",
       "        text-align: right;\n",
       "    }\n",
       "</style>\n",
       "<table border=\"1\" class=\"dataframe\">\n",
       "  <thead>\n",
       "    <tr style=\"text-align: right;\">\n",
       "      <th></th>\n",
       "      <th>Mètodes</th>\n",
       "      <th>DecisionTreeClassifier</th>\n",
       "      <th>KNN</th>\n",
       "    </tr>\n",
       "  </thead>\n",
       "  <tbody>\n",
       "    <tr>\n",
       "      <th>0</th>\n",
       "      <td>Accuracy</td>\n",
       "      <td>0.851852</td>\n",
       "      <td>0.962963</td>\n",
       "    </tr>\n",
       "    <tr>\n",
       "      <th>1</th>\n",
       "      <td>Sensibilitat (Macro)</td>\n",
       "      <td>0.845865</td>\n",
       "      <td>0.968254</td>\n",
       "    </tr>\n",
       "    <tr>\n",
       "      <th>2</th>\n",
       "      <td>F1(Macro)</td>\n",
       "      <td>0.851099</td>\n",
       "      <td>0.963292</td>\n",
       "    </tr>\n",
       "  </tbody>\n",
       "</table>\n",
       "</div>"
      ],
      "text/plain": [
       "                Mètodes  DecisionTreeClassifier       KNN\n",
       "0              Accuracy                0.851852  0.962963\n",
       "1  Sensibilitat (Macro)                0.845865  0.968254\n",
       "2             F1(Macro)                0.851099  0.963292"
      ]
     },
     "execution_count": 62,
     "metadata": {},
     "output_type": "execute_result"
    }
   ],
   "source": [
    "df_compar= pd.DataFrame()\n",
    "df_compar ['Mètodes']= 'Accuracy','Sensibilitat (Macro)','F1(Macro)'\n",
    "df_compar['DecisionTreeClassifier']= acc_dtc, rec_dtc_macro, f1_dtc_macro\n",
    "df_compar['KNN']= acc_knn, rec_knn_macro, f1_knn_macro\n",
    "df_compar"
   ]
  },
  {
   "cell_type": "markdown",
   "id": "d9302bed",
   "metadata": {},
   "source": [
    "Després del GridSearchCV DecisionTreeClassifier empitjora força i KNN es manté en les mateixes mètriques"
   ]
  },
  {
   "cell_type": "code",
   "execution_count": 63,
   "id": "50a7fdcc",
   "metadata": {},
   "outputs": [],
   "source": [
    "acc_dtc_sds_gs=acc_dtc\n",
    "rec_dtc_macro_sds_gs=rec_dtc_macro\n",
    "f1_dtc_macro_sds_gs=f1_dtc_macro\n",
    "acc_knn_sds_gs=acc_knn\n",
    "rec_knn_macro_sds_gs=rec_knn_macro\n",
    "f1_knn_macro_sds_gs=f1_knn_macro"
   ]
  },
  {
   "cell_type": "markdown",
   "id": "6d3f2517",
   "metadata": {},
   "source": [
    "# Exercici 5\n",
    "\n",
    "Aplica algun procés d'enginyeria per millorar els resultats (normalització, estandardització, mostreig...)"
   ]
  },
  {
   "cell_type": "code",
   "execution_count": 64,
   "id": "8c6aad33",
   "metadata": {},
   "outputs": [],
   "source": [
    "import pandas as pd\n",
    "from sklearn.tree import DecisionTreeClassifier # Import Decision Tree Classifier\n",
    "from sklearn.model_selection import train_test_split # Import train_test_split function\n",
    "from sklearn import metrics #Import scikit-learn metrics module for accuracy calculation\n",
    "import matplotlib.pyplot as plt\n",
    "from sklearn.metrics import confusion_matrix\n",
    "df = pd.read_csv ('wineData.txt', names= ['Alcohol','Ácido málico', 'Cenizas', 'Alcalinidad de la ceniza','Magnesio','Fenoles totales','Flavanoides','Fenoles no flavonoides','Proantocianinas','Intensidad del color','Tonalidad','DO280/OD315 de los vinos diluidos','Prolina'])"
   ]
  },
  {
   "cell_type": "code",
   "execution_count": 65,
   "id": "83df0bc6",
   "metadata": {},
   "outputs": [
    {
     "data": {
      "text/html": [
       "<div>\n",
       "<style scoped>\n",
       "    .dataframe tbody tr th:only-of-type {\n",
       "        vertical-align: middle;\n",
       "    }\n",
       "\n",
       "    .dataframe tbody tr th {\n",
       "        vertical-align: top;\n",
       "    }\n",
       "\n",
       "    .dataframe thead th {\n",
       "        text-align: right;\n",
       "    }\n",
       "</style>\n",
       "<table border=\"1\" class=\"dataframe\">\n",
       "  <thead>\n",
       "    <tr style=\"text-align: right;\">\n",
       "      <th></th>\n",
       "      <th>Clases</th>\n",
       "      <th>Alcohol</th>\n",
       "      <th>Ácido málico</th>\n",
       "      <th>Cenizas</th>\n",
       "      <th>Alcalinidad de la ceniza</th>\n",
       "      <th>Magnesio</th>\n",
       "      <th>Fenoles totales</th>\n",
       "      <th>Flavanoides</th>\n",
       "      <th>Fenoles no flavonoides</th>\n",
       "      <th>Proantocianinas</th>\n",
       "      <th>Intensidad del color</th>\n",
       "      <th>Tonalidad</th>\n",
       "      <th>DO280/OD315 de los vinos diluidos</th>\n",
       "      <th>Prolina</th>\n",
       "    </tr>\n",
       "  </thead>\n",
       "  <tbody>\n",
       "    <tr>\n",
       "      <th>0</th>\n",
       "      <td>1</td>\n",
       "      <td>14.23</td>\n",
       "      <td>1.71</td>\n",
       "      <td>2.43</td>\n",
       "      <td>15.6</td>\n",
       "      <td>127</td>\n",
       "      <td>2.80</td>\n",
       "      <td>3.06</td>\n",
       "      <td>0.28</td>\n",
       "      <td>2.29</td>\n",
       "      <td>5.64</td>\n",
       "      <td>1.04</td>\n",
       "      <td>3.92</td>\n",
       "      <td>1065</td>\n",
       "    </tr>\n",
       "    <tr>\n",
       "      <th>1</th>\n",
       "      <td>1</td>\n",
       "      <td>13.20</td>\n",
       "      <td>1.78</td>\n",
       "      <td>2.14</td>\n",
       "      <td>11.2</td>\n",
       "      <td>100</td>\n",
       "      <td>2.65</td>\n",
       "      <td>2.76</td>\n",
       "      <td>0.26</td>\n",
       "      <td>1.28</td>\n",
       "      <td>4.38</td>\n",
       "      <td>1.05</td>\n",
       "      <td>3.40</td>\n",
       "      <td>1050</td>\n",
       "    </tr>\n",
       "    <tr>\n",
       "      <th>2</th>\n",
       "      <td>1</td>\n",
       "      <td>13.16</td>\n",
       "      <td>2.36</td>\n",
       "      <td>2.67</td>\n",
       "      <td>18.6</td>\n",
       "      <td>101</td>\n",
       "      <td>2.80</td>\n",
       "      <td>3.24</td>\n",
       "      <td>0.30</td>\n",
       "      <td>2.81</td>\n",
       "      <td>5.68</td>\n",
       "      <td>1.03</td>\n",
       "      <td>3.17</td>\n",
       "      <td>1185</td>\n",
       "    </tr>\n",
       "    <tr>\n",
       "      <th>3</th>\n",
       "      <td>1</td>\n",
       "      <td>14.37</td>\n",
       "      <td>1.95</td>\n",
       "      <td>2.50</td>\n",
       "      <td>16.8</td>\n",
       "      <td>113</td>\n",
       "      <td>3.85</td>\n",
       "      <td>3.49</td>\n",
       "      <td>0.24</td>\n",
       "      <td>2.18</td>\n",
       "      <td>7.80</td>\n",
       "      <td>0.86</td>\n",
       "      <td>3.45</td>\n",
       "      <td>1480</td>\n",
       "    </tr>\n",
       "    <tr>\n",
       "      <th>4</th>\n",
       "      <td>1</td>\n",
       "      <td>13.24</td>\n",
       "      <td>2.59</td>\n",
       "      <td>2.87</td>\n",
       "      <td>21.0</td>\n",
       "      <td>118</td>\n",
       "      <td>2.80</td>\n",
       "      <td>2.69</td>\n",
       "      <td>0.39</td>\n",
       "      <td>1.82</td>\n",
       "      <td>4.32</td>\n",
       "      <td>1.04</td>\n",
       "      <td>2.93</td>\n",
       "      <td>735</td>\n",
       "    </tr>\n",
       "  </tbody>\n",
       "</table>\n",
       "</div>"
      ],
      "text/plain": [
       "   Clases  Alcohol  Ácido málico  Cenizas  Alcalinidad de la ceniza  Magnesio  \\\n",
       "0       1    14.23          1.71     2.43                      15.6       127   \n",
       "1       1    13.20          1.78     2.14                      11.2       100   \n",
       "2       1    13.16          2.36     2.67                      18.6       101   \n",
       "3       1    14.37          1.95     2.50                      16.8       113   \n",
       "4       1    13.24          2.59     2.87                      21.0       118   \n",
       "\n",
       "   Fenoles totales  Flavanoides  Fenoles no flavonoides  Proantocianinas  \\\n",
       "0             2.80         3.06                    0.28             2.29   \n",
       "1             2.65         2.76                    0.26             1.28   \n",
       "2             2.80         3.24                    0.30             2.81   \n",
       "3             3.85         3.49                    0.24             2.18   \n",
       "4             2.80         2.69                    0.39             1.82   \n",
       "\n",
       "   Intensidad del color  Tonalidad  DO280/OD315 de los vinos diluidos  Prolina  \n",
       "0                  5.64       1.04                               3.92     1065  \n",
       "1                  4.38       1.05                               3.40     1050  \n",
       "2                  5.68       1.03                               3.17     1185  \n",
       "3                  7.80       0.86                               3.45     1480  \n",
       "4                  4.32       1.04                               2.93      735  "
      ]
     },
     "execution_count": 65,
     "metadata": {},
     "output_type": "execute_result"
    }
   ],
   "source": [
    "df.reset_index(inplace=True, names='Clases')\n",
    "df.head()"
   ]
  },
  {
   "cell_type": "code",
   "execution_count": 66,
   "id": "78a0c492",
   "metadata": {},
   "outputs": [],
   "source": [
    "X=df.drop(\"Clases\", axis=1)\n",
    "y=df.Clases"
   ]
  },
  {
   "cell_type": "markdown",
   "id": "0c42722c",
   "metadata": {},
   "source": [
    "Separo X i y"
   ]
  },
  {
   "cell_type": "code",
   "execution_count": 67,
   "id": "74ed14b2",
   "metadata": {},
   "outputs": [
    {
     "data": {
      "text/plain": [
       "<Figure size 432x288 with 0 Axes>"
      ]
     },
     "metadata": {},
     "output_type": "display_data"
    },
    {
     "data": {
      "image/png": "[encoded data removed]",
      "text/plain": [
       "<Figure size 576x360 with 2 Axes>"
      ]
     },
     "metadata": {},
     "output_type": "display_data"
    },
    {
     "data": {
      "text/plain": [
       "<Figure size 576x360 with 0 Axes>"
      ]
     },
     "metadata": {},
     "output_type": "display_data"
    },
    {
     "data": {
      "image/png": "[encoded data removed]",
      "text/plain": [
       "<Figure size 576x360 with 2 Axes>"
      ]
     },
     "metadata": {},
     "output_type": "display_data"
    },
    {
     "data": {
      "text/plain": [
       "<Figure size 576x360 with 0 Axes>"
      ]
     },
     "metadata": {},
     "output_type": "display_data"
    },
    {
     "data": {
      "image/png": "[encoded data removed]",
      "text/plain": [
       "<Figure size 576x360 with 2 Axes>"
      ]
     },
     "metadata": {},
     "output_type": "display_data"
    },
    {
     "data": {
      "text/plain": [
       "<Figure size 576x360 with 0 Axes>"
      ]
     },
     "metadata": {},
     "output_type": "display_data"
    },
    {
     "data": {
      "image/png": "[encoded data removed]",
      "text/plain": [
       "<Figure size 576x360 with 2 Axes>"
      ]
     },
     "metadata": {},
     "output_type": "display_data"
    },
    {
     "data": {
      "text/plain": [
       "<Figure size 576x360 with 0 Axes>"
      ]
     },
     "metadata": {},
     "output_type": "display_data"
    },
    {
     "data": {
      "image/png": "[encoded data removed]",
      "text/plain": [
       "<Figure size 576x360 with 2 Axes>"
      ]
     },
     "metadata": {},
     "output_type": "display_data"
    },
    {
     "data": {
      "text/plain": [
       "<Figure size 576x360 with 0 Axes>"
      ]
     },
     "metadata": {},
     "output_type": "display_data"
    },
    {
     "data": {
      "image/png": "[encoded data removed]",
      "text/plain": [
       "<Figure size 576x360 with 2 Axes>"
      ]
     },
     "metadata": {},
     "output_type": "display_data"
    },
    {
     "data": {
      "text/plain": [
       "<Figure size 576x360 with 0 Axes>"
      ]
     },
     "metadata": {},
     "output_type": "display_data"
    },
    {
     "data": {
      "image/png": "[encoded data removed]",
      "text/plain": [
       "<Figure size 576x360 with 2 Axes>"
      ]
     },
     "metadata": {},
     "output_type": "display_data"
    },
    {
     "data": {
      "text/plain": [
       "<Figure size 576x360 with 0 Axes>"
      ]
     },
     "metadata": {},
     "output_type": "display_data"
    },
    {
     "data": {
      "image/png": "[encoded data removed]",
      "text/plain": [
       "<Figure size 576x360 with 2 Axes>"
      ]
     },
     "metadata": {},
     "output_type": "display_data"
    },
    {
     "data": {
      "text/plain": [
       "<Figure size 576x360 with 0 Axes>"
      ]
     },
     "metadata": {},
     "output_type": "display_data"
    },
    {
     "data": {
      "image/png": "[encoded data removed]",
      "text/plain": [
       "<Figure size 576x360 with 2 Axes>"
      ]
     },
     "metadata": {},
     "output_type": "display_data"
    },
    {
     "data": {
      "text/plain": [
       "<Figure size 576x360 with 0 Axes>"
      ]
     },
     "metadata": {},
     "output_type": "display_data"
    },
    {
     "data": {
      "image/png": "[encoded data removed]",
      "text/plain": [
       "<Figure size 576x360 with 2 Axes>"
      ]
     },
     "metadata": {},
     "output_type": "display_data"
    },
    {
     "data": {
      "text/plain": [
       "<Figure size 576x360 with 0 Axes>"
      ]
     },
     "metadata": {},
     "output_type": "display_data"
    },
    {
     "data": {
      "image/png": "[encoded data removed]",
      "text/plain": [
       "<Figure size 576x360 with 2 Axes>"
      ]
     },
     "metadata": {},
     "output_type": "display_data"
    },
    {
     "data": {
      "text/plain": [
       "<Figure size 576x360 with 0 Axes>"
      ]
     },
     "metadata": {},
     "output_type": "display_data"
    },
    {
     "data": {
      "image/png": "[encoded data removed]",
      "text/plain": [
       "<Figure size 576x360 with 2 Axes>"
      ]
     },
     "metadata": {},
     "output_type": "display_data"
    },
    {
     "data": {
      "text/plain": [
       "<Figure size 576x360 with 0 Axes>"
      ]
     },
     "metadata": {},
     "output_type": "display_data"
    },
    {
     "data": {
      "image/png": "[encoded data removed]",
      "text/plain": [
       "<Figure size 576x360 with 2 Axes>"
      ]
     },
     "metadata": {},
     "output_type": "display_data"
    },
    {
     "data": {
      "text/plain": [
       "<Figure size 576x360 with 0 Axes>"
      ]
     },
     "metadata": {},
     "output_type": "display_data"
    },
    {
     "data": {
      "image/png": "[encoded data removed]",
      "text/plain": [
       "<Figure size 576x360 with 2 Axes>"
      ]
     },
     "metadata": {},
     "output_type": "display_data"
    }
   ],
   "source": [
    "import matplotlib.pyplot as plt\n",
    "import seaborn as sns\n",
    "\n",
    "import warnings\n",
    "warnings.filterwarnings(\"ignore\")\n",
    "for i in df.columns:\n",
    "    plt.figure()\n",
    "    plt.tight_layout()\n",
    "    sns.set(rc={\"figure.figsize\":(8, 5)})\n",
    "    f, (ax_box, ax_hist) = plt.subplots(2, sharex=True)\n",
    "    plt.gca().set(xlabel= i,ylabel='Frequency')\n",
    "    sns.boxplot(df[i],  ax=ax_box , linewidth= 1.0)\n",
    "    sns.histplot(df[i], ax=ax_hist , bins = 10,kde=True)"
   ]
  },
  {
   "cell_type": "code",
   "execution_count": 68,
   "id": "3325b490",
   "metadata": {},
   "outputs": [],
   "source": [
    "from sklearn import preprocessing \n",
    "\n",
    "from sklearn.preprocessing import RobustScaler\n",
    "from sklearn.preprocessing import MinMaxScaler\n",
    "\n",
    "columnsNorm = ['Clases','Alcohol','Fenoles totales','Flavanoides','Fenoles no flavonoides','DO280/OD315 de los vinos diluidos','Prolina']\n",
    "scaler = preprocessing.MinMaxScaler().fit(df[columnsNorm])\n",
    "df[columnsNorm] = scaler.transform(df[columnsNorm])\n",
    "\n",
    "columnsRobust = ['Ácido málico','Cenizas','Alcalinidad de la ceniza','Magnesio','Proantocianinas','Intensidad del color','Tonalidad']\n",
    "scaler = preprocessing.RobustScaler().fit(df[columnsRobust])\n",
    "df[columnsRobust] = scaler.transform(df[columnsRobust])"
   ]
  },
  {
   "cell_type": "code",
   "execution_count": 69,
   "id": "a13ef0b8",
   "metadata": {},
   "outputs": [],
   "source": [
    "X_train, X_test, y_train, y_test = train_test_split(X, y, test_size=0.3, random_state=42) # 70% training and 30% test\n"
   ]
  },
  {
   "cell_type": "markdown",
   "id": "b9ae6fa0",
   "metadata": {},
   "source": [
    "Entreno el model amb DecisionTreeClassifier"
   ]
  },
  {
   "cell_type": "markdown",
   "id": "5ac9044a",
   "metadata": {},
   "source": [
    "MODEL DecisionTreeClassifier"
   ]
  },
  {
   "cell_type": "code",
   "execution_count": 70,
   "id": "f294b968",
   "metadata": {},
   "outputs": [],
   "source": [
    "dtc = DecisionTreeClassifier()\n",
    "\n",
    "dtc = dtc.fit(X_train,y_train)\n",
    "\n",
    "y_pred_dtc = dtc.predict(X_test)"
   ]
  },
  {
   "cell_type": "code",
   "execution_count": 71,
   "id": "20f8d165",
   "metadata": {},
   "outputs": [],
   "source": [
    "from sklearn.metrics import confusion_matrix\n",
    "y_true=y_test\n",
    "confusion_matrix_dtc=confusion_matrix(y_true, y_pred_dtc)"
   ]
  },
  {
   "cell_type": "code",
   "execution_count": 72,
   "id": "27f6ab20",
   "metadata": {
    "scrolled": true
   },
   "outputs": [
    {
     "data": {
      "text/plain": [
       "<matplotlib.axes._subplots.AxesSubplot at 0x7ff3b3bae6a0>"
      ]
     },
     "execution_count": 72,
     "metadata": {},
     "output_type": "execute_result"
    },
    {
     "data": {
      "image/png": "[encoded data removed]",
      "text/plain": [
       "<Figure size 576x360 with 2 Axes>"
      ]
     },
     "metadata": {},
     "output_type": "display_data"
    }
   ],
   "source": [
    "import seaborn as sns\n",
    "confusion_matrix_dtc = pd.DataFrame(confusion_matrix_dtc,\n",
    "    columns=[\"1\", \"2\", \"3\"],\n",
    "    index=[\"1\", \"2\", \"3\"]\n",
    ")\n",
    "\n",
    "sns.heatmap(confusion_matrix_dtc, annot=True)"
   ]
  },
  {
   "cell_type": "markdown",
   "id": "345ecf0a",
   "metadata": {},
   "source": [
    "Es mantenen els errors variant l'error en la predicció de la classe 3 en què amb Standarscaler ho classificava com a 1 i en aquest cas com a 2"
   ]
  },
  {
   "cell_type": "code",
   "execution_count": 73,
   "id": "5bc0a545",
   "metadata": {
    "scrolled": true
   },
   "outputs": [
    {
     "name": "stdout",
     "output_type": "stream",
     "text": [
      "{'ccp_alpha': 0.0, 'class_weight': None, 'criterion': 'gini', 'max_depth': None, 'max_features': None, 'max_leaf_nodes': None, 'min_impurity_decrease': 0.0, 'min_samples_leaf': 1, 'min_samples_split': 2, 'min_weight_fraction_leaf': 0.0, 'random_state': None, 'splitter': 'best'}\n"
     ]
    }
   ],
   "source": [
    "print(dtc.get_params())"
   ]
  },
  {
   "cell_type": "markdown",
   "id": "f4f34d7b",
   "metadata": {},
   "source": [
    "Faig un print dels paràmetres que s'han utilitzat per entrenar el model"
   ]
  },
  {
   "cell_type": "markdown",
   "id": "b2cf1d91",
   "metadata": {},
   "source": [
    "MODEL K-nearest Neighbors (KNN)"
   ]
  },
  {
   "cell_type": "code",
   "execution_count": 74,
   "id": "6cbbc381",
   "metadata": {},
   "outputs": [],
   "source": [
    "from sklearn.neighbors import KNeighborsClassifier\n",
    "\n",
    "classifier = KNeighborsClassifier()\n",
    "\n",
    "classifier=classifier.fit(X_train, y_train)\n",
    "\n",
    "y_pred_knn = classifier.predict(X_test)"
   ]
  },
  {
   "cell_type": "code",
   "execution_count": 75,
   "id": "7b4578bd",
   "metadata": {},
   "outputs": [
    {
     "name": "stdout",
     "output_type": "stream",
     "text": [
      "{'algorithm': 'auto', 'leaf_size': 30, 'metric': 'minkowski', 'metric_params': None, 'n_jobs': None, 'n_neighbors': 5, 'p': 2, 'weights': 'uniform'}\n"
     ]
    }
   ],
   "source": [
    "print(classifier.get_params())"
   ]
  },
  {
   "cell_type": "code",
   "execution_count": 76,
   "id": "378c6990",
   "metadata": {},
   "outputs": [],
   "source": [
    "from sklearn.metrics import confusion_matrix"
   ]
  },
  {
   "cell_type": "markdown",
   "id": "fff9f833",
   "metadata": {},
   "source": [
    "Dubte: Si no torno a imporar confusion_matrix em dóna error, perquè?"
   ]
  },
  {
   "cell_type": "code",
   "execution_count": 77,
   "id": "cfdacc61",
   "metadata": {},
   "outputs": [],
   "source": [
    "confusion_matrix_knn=confusion_matrix(y_true, y_pred_knn)"
   ]
  },
  {
   "cell_type": "code",
   "execution_count": 78,
   "id": "b8b6f239",
   "metadata": {},
   "outputs": [
    {
     "data": {
      "text/plain": [
       "<matplotlib.axes._subplots.AxesSubplot at 0x7ff3b3a013a0>"
      ]
     },
     "execution_count": 78,
     "metadata": {},
     "output_type": "execute_result"
    },
    {
     "data": {
      "image/png": "[encoded data removed]",
      "text/plain": [
       "<Figure size 576x360 with 2 Axes>"
      ]
     },
     "metadata": {},
     "output_type": "display_data"
    }
   ],
   "source": [
    "import seaborn as sns\n",
    "confusion_matrix_knn = pd.DataFrame(confusion_matrix_knn,\n",
    "    columns=[\"1\", \"2\", \"3\"],\n",
    "    index=[\"1\", \"2\", \"3\"]\n",
    ")\n",
    "\n",
    "sns.heatmap(confusion_matrix_knn, annot=True)"
   ]
  },
  {
   "cell_type": "markdown",
   "id": "b41974d3",
   "metadata": {},
   "source": [
    "Té els mateixos erros que sense procés d'enginyeria i molt lluny dels 2 errors aconseguits amb Standarscaler"
   ]
  },
  {
   "cell_type": "code",
   "execution_count": 79,
   "id": "7020d386",
   "metadata": {},
   "outputs": [
    {
     "name": "stdout",
     "output_type": "stream",
     "text": [
      "acc_dtc: 0.9629629629629629\n",
      "acc_knn: 0.7407407407407407\n"
     ]
    }
   ],
   "source": [
    "from sklearn.metrics import accuracy_score, recall_score, f1_score, roc_auc_score\n",
    "# Calcular la precisió per a cada model\n",
    "acc_dtc = accuracy_score(y_test, y_pred_dtc)\n",
    "acc_knn = accuracy_score(y_test, y_pred_knn)\n",
    "print ('acc_dtc:', acc_dtc)\n",
    "print ('acc_knn:',acc_knn)"
   ]
  },
  {
   "cell_type": "code",
   "execution_count": 80,
   "id": "a845a1a7",
   "metadata": {},
   "outputs": [
    {
     "name": "stdout",
     "output_type": "stream",
     "text": [
      "rec_dtc_micro: 0.9629629629629629\n",
      "rec_knn_micro: 0.7407407407407407\n"
     ]
    }
   ],
   "source": [
    "# Calcular la sensibilitat per a cada model (micro)\n",
    "rec_dtc_micro = recall_score(y_test, y_pred_dtc, average='micro')\n",
    "rec_knn_micro = recall_score(y_test, y_pred_knn, average='micro')\n",
    "print ('rec_dtc_micro:', rec_dtc_micro)\n",
    "print ('rec_knn_micro:',rec_knn_micro)"
   ]
  },
  {
   "cell_type": "code",
   "execution_count": 81,
   "id": "d568a331",
   "metadata": {},
   "outputs": [
    {
     "name": "stdout",
     "output_type": "stream",
     "text": [
      "rec_dtc_macro: 0.9586466165413533\n",
      "rec_knn_macro: 0.7268170426065163\n"
     ]
    }
   ],
   "source": [
    "# Calcular la sensibilitat per a cada model (macro)\n",
    "rec_dtc_macro = recall_score(y_test, y_pred_dtc, average='macro')\n",
    "rec_knn_macro = recall_score(y_test, y_pred_knn, average='macro')\n",
    "print ('rec_dtc_macro:', rec_dtc_macro)\n",
    "print ('rec_knn_macro:', rec_knn_macro)"
   ]
  },
  {
   "cell_type": "code",
   "execution_count": 82,
   "id": "c50b6178",
   "metadata": {},
   "outputs": [
    {
     "name": "stdout",
     "output_type": "stream",
     "text": [
      "f1_dtc_micro: 0.9629629629629629\n",
      "f1_knn_micro: 0.7407407407407407\n"
     ]
    }
   ],
   "source": [
    "#Calcular l'indicador F1 per a cada model (micro)\n",
    "f1_dtc_micro = f1_score(y_test, y_pred_dtc,average='micro')\n",
    "f1_knn_micro = f1_score(y_test, y_pred_knn, average='micro')\n",
    "print ('f1_dtc_micro:', f1_dtc_micro)\n",
    "print ('f1_knn_micro:',f1_knn_micro)"
   ]
  },
  {
   "cell_type": "markdown",
   "id": "b0f06d91",
   "metadata": {},
   "source": [
    "Dubte: perquè em dóna el mateix resultat accuracy, recall score micro i f1 micro ?"
   ]
  },
  {
   "cell_type": "code",
   "execution_count": 83,
   "id": "5cd028c8",
   "metadata": {},
   "outputs": [
    {
     "name": "stdout",
     "output_type": "stream",
     "text": [
      "f1_dtc_macro: 0.9623585233540354\n",
      "f1_knn_macro: 0.7260560990364894\n"
     ]
    }
   ],
   "source": [
    "#Calcular l'indicador F1 per a cada model (macro)\n",
    "f1_dtc_macro = f1_score(y_test, y_pred_dtc,average='macro')\n",
    "f1_knn_macro = f1_score(y_test, y_pred_knn, average='macro')\n",
    "print ('f1_dtc_macro:', f1_dtc_macro)\n",
    "print ('f1_knn_macro:', f1_knn_macro)"
   ]
  },
  {
   "cell_type": "code",
   "execution_count": 84,
   "id": "3508cc6d",
   "metadata": {},
   "outputs": [
    {
     "data": {
      "text/html": [
       "<div>\n",
       "<style scoped>\n",
       "    .dataframe tbody tr th:only-of-type {\n",
       "        vertical-align: middle;\n",
       "    }\n",
       "\n",
       "    .dataframe tbody tr th {\n",
       "        vertical-align: top;\n",
       "    }\n",
       "\n",
       "    .dataframe thead th {\n",
       "        text-align: right;\n",
       "    }\n",
       "</style>\n",
       "<table border=\"1\" class=\"dataframe\">\n",
       "  <thead>\n",
       "    <tr style=\"text-align: right;\">\n",
       "      <th></th>\n",
       "      <th>Mètodes</th>\n",
       "      <th>DecisionTreeClassifier</th>\n",
       "      <th>KNN</th>\n",
       "    </tr>\n",
       "  </thead>\n",
       "  <tbody>\n",
       "    <tr>\n",
       "      <th>0</th>\n",
       "      <td>Accuracy</td>\n",
       "      <td>0.962963</td>\n",
       "      <td>0.740741</td>\n",
       "    </tr>\n",
       "    <tr>\n",
       "      <th>1</th>\n",
       "      <td>Sensibilitat (Macro)</td>\n",
       "      <td>0.958647</td>\n",
       "      <td>0.726817</td>\n",
       "    </tr>\n",
       "    <tr>\n",
       "      <th>2</th>\n",
       "      <td>F1(Macro)</td>\n",
       "      <td>0.962359</td>\n",
       "      <td>0.726056</td>\n",
       "    </tr>\n",
       "  </tbody>\n",
       "</table>\n",
       "</div>"
      ],
      "text/plain": [
       "                Mètodes  DecisionTreeClassifier       KNN\n",
       "0              Accuracy                0.962963  0.740741\n",
       "1  Sensibilitat (Macro)                0.958647  0.726817\n",
       "2             F1(Macro)                0.962359  0.726056"
      ]
     },
     "execution_count": 84,
     "metadata": {},
     "output_type": "execute_result"
    }
   ],
   "source": [
    "df_compar= pd.DataFrame()\n",
    "df_compar ['Mètodes']= 'Accuracy','Sensibilitat (Macro)','F1(Macro)'\n",
    "df_compar['DecisionTreeClassifier']= acc_dtc, rec_dtc_macro, f1_dtc_macro\n",
    "df_compar['KNN']= acc_knn, rec_knn_macro, f1_knn_macro\n",
    "df_compar"
   ]
  },
  {
   "cell_type": "markdown",
   "id": "3ea74b16",
   "metadata": {},
   "source": [
    "No hi ha pràcticament diferència amb preprocessat que sense"
   ]
  },
  {
   "cell_type": "code",
   "execution_count": 85,
   "id": "af8b3789",
   "metadata": {},
   "outputs": [],
   "source": [
    "acc_dtc_pp=acc_dtc\n",
    "rec_dtc_macro_pp=rec_dtc_macro\n",
    "f1_dtc_macro_pp=f1_dtc_macro\n",
    "acc_knn_pp=acc_knn\n",
    "rec_knn_macro_pp=rec_knn_macro\n",
    "f1_knn_macro_pp=f1_knn_macro"
   ]
  },
  {
   "cell_type": "markdown",
   "id": "61818bee",
   "metadata": {},
   "source": [
    "# GridSearch\n",
    "\n",
    "Entrena’ls usant els diferents paràmetres que admeten per tal de millorar-ne la predicció."
   ]
  },
  {
   "cell_type": "markdown",
   "id": "ea9fa24e",
   "metadata": {},
   "source": [
    "DecisionTreeClassifier"
   ]
  },
  {
   "cell_type": "code",
   "execution_count": 86,
   "id": "c4cfabb9",
   "metadata": {},
   "outputs": [
    {
     "data": {
      "text/plain": [
       "{'criterion': 'gini',\n",
       " 'max_depth': 5,\n",
       " 'max_features': 3,\n",
       " 'min_samples_leaf': 4,\n",
       " 'min_samples_split': 3,\n",
       " 'random_state': 42}"
      ]
     },
     "execution_count": 86,
     "metadata": {},
     "output_type": "execute_result"
    }
   ],
   "source": [
    "from sklearn.tree import DecisionTreeClassifier\n",
    "from sklearn.model_selection import GridSearchCV\n",
    "parameters = {'max_depth': [5,6,7,8,9,10,11,12,15],\n",
    "              'min_samples_split': [3,4,5,6,7,8,10,13,14,15,16,17,18],\n",
    "              'criterion': ['gini', 'entropy'],\n",
    "             'min_samples_leaf':[3,4,5,6,7,],\n",
    "             'max_features':[1,3,4,5,6,7,9,11,13],\n",
    "             'random_state':[42]}\n",
    "dtc = DecisionTreeClassifier()\n",
    "grid_search = GridSearchCV(dtc, parameters, cv=5)\n",
    "grid_search.fit(X, y)\n",
    "best_params = grid_search.best_params_\n",
    "best_score = grid_search.best_score_\n",
    "best_estimator = grid_search.best_estimator_\n",
    "best_params"
   ]
  },
  {
   "cell_type": "code",
   "execution_count": 87,
   "id": "e19cd1ec",
   "metadata": {},
   "outputs": [
    {
     "data": {
      "text/plain": [
       "<matplotlib.axes._subplots.AxesSubplot at 0x7ff3b38dd850>"
      ]
     },
     "execution_count": 87,
     "metadata": {},
     "output_type": "execute_result"
    },
    {
     "data": {
      "image/png": "[encoded data removed]",
      "text/plain": [
       "<Figure size 576x360 with 2 Axes>"
      ]
     },
     "metadata": {},
     "output_type": "display_data"
    }
   ],
   "source": [
    "dtc = DecisionTreeClassifier(criterion='gini',\n",
    "                                max_depth= 5, \n",
    "                                max_features=3,\n",
    "                                  min_samples_leaf=4,\n",
    "                                min_samples_split=3,\n",
    "                               random_state=42)\n",
    "\n",
    "dtc= dtc.fit(X_train,y_train)\n",
    "\n",
    "y_pred_dtc = dtc.predict(X_test)\n",
    "y_true=y_test\n",
    "confusion_matrix_dtc=confusion_matrix(y_true, y_pred_dtc)\n",
    "confusion_matrix_dtc_gs = pd.DataFrame(confusion_matrix_dtc,\n",
    "    columns=[\"1\", \"2\", \"3\"],\n",
    "    index=[\"1\", \"2\", \"3\"]\n",
    ")\n",
    "\n",
    "sns.heatmap(confusion_matrix_dtc, annot=True)"
   ]
  },
  {
   "cell_type": "code",
   "execution_count": 88,
   "id": "09bd4aae",
   "metadata": {},
   "outputs": [
    {
     "data": {
      "text/plain": [
       "{'criterion': 'entropy',\n",
       " 'max_depth': 3,\n",
       " 'max_features': None,\n",
       " 'min_samples_leaf': 3,\n",
       " 'min_samples_split': 2,\n",
       " 'random_state': 42}"
      ]
     },
     "execution_count": 88,
     "metadata": {},
     "output_type": "execute_result"
    }
   ],
   "source": [
    "from sklearn.tree import DecisionTreeClassifier\n",
    "from sklearn.model_selection import GridSearchCV\n",
    "parameters = {'criterion': ['gini', 'entropy'], 'max_depth': [3, 5, 7], \n",
    "              'min_samples_split': [2, 4, 6], 'min_samples_leaf': [1, 3, 5], \n",
    "              'max_features': [None, 'sqrt', 'log2'],\n",
    "             'random_state':[42]}\n",
    "dtc = DecisionTreeClassifier()\n",
    "grid_search = GridSearchCV(dtc, parameters, cv=5)\n",
    "grid_search.fit(X, y)\n",
    "best_params = grid_search.best_params_\n",
    "best_score = grid_search.best_score_\n",
    "best_estimator = grid_search.best_estimator_\n",
    "best_params"
   ]
  },
  {
   "cell_type": "code",
   "execution_count": 89,
   "id": "3b960490",
   "metadata": {},
   "outputs": [
    {
     "data": {
      "text/plain": [
       "<matplotlib.axes._subplots.AxesSubplot at 0x7ff3b3857b80>"
      ]
     },
     "execution_count": 89,
     "metadata": {},
     "output_type": "execute_result"
    },
    {
     "data": {
      "image/png": "[encoded data removed]",
      "text/plain": [
       "<Figure size 576x360 with 2 Axes>"
      ]
     },
     "metadata": {},
     "output_type": "display_data"
    }
   ],
   "source": [
    "dtc = DecisionTreeClassifier(criterion='entropy',\n",
    "                                max_depth= 3, \n",
    "                                  min_samples_leaf=3,\n",
    "                                min_samples_split=2,\n",
    "                              random_state=42)\n",
    "\n",
    "dtc = dtc.fit(X_train,y_train)\n",
    "\n",
    "y_pred_dtc = dtc.predict(X_test)\n",
    "y_true=y_test\n",
    "confusion_matrix_dtc=confusion_matrix(y_true, y_pred_dtc)\n",
    "confusion_matrix_dtc = pd.DataFrame(confusion_matrix_dtc,\n",
    "    columns=[\"1\", \"2\", \"3\"],\n",
    "    index=[\"1\", \"2\", \"3\"]\n",
    ")\n",
    "\n",
    "sns.heatmap(confusion_matrix_dtc_gs, annot=True)"
   ]
  },
  {
   "cell_type": "markdown",
   "id": "468dda04",
   "metadata": {},
   "source": [
    "Els resultats han empitjorat envers els realitzats sense GridSearch"
   ]
  },
  {
   "cell_type": "markdown",
   "id": "7442f5b1",
   "metadata": {},
   "source": [
    "MODEL KNN"
   ]
  },
  {
   "cell_type": "code",
   "execution_count": 90,
   "id": "a16c3e0c",
   "metadata": {},
   "outputs": [
    {
     "data": {
      "text/plain": [
       "{'algorithm': 'ball_tree',\n",
       " 'leaf_size': 20,\n",
       " 'n_neighbors': 3,\n",
       " 'weights': 'distance'}"
      ]
     },
     "execution_count": 90,
     "metadata": {},
     "output_type": "execute_result"
    }
   ],
   "source": [
    "from sklearn.neighbors import KNeighborsClassifier\n",
    "parameters = {'n_neighbors': [3, 5, 7], 'weights': ['uniform', 'distance'], \n",
    "              'algorithm': ['ball_tree', 'kd_tree'], 'leaf_size': [20, 30]}\n",
    "knn = KNeighborsClassifier()\n",
    "grid_search = GridSearchCV(knn, parameters, cv=5)\n",
    "grid_search.fit(X, y)\n",
    "best_params = grid_search.best_params_\n",
    "best_score = grid_search.best_score_\n",
    "best_estimator = grid_search.best_estimator_\n",
    "best_params"
   ]
  },
  {
   "cell_type": "code",
   "execution_count": 91,
   "id": "4ee0c82c",
   "metadata": {},
   "outputs": [
    {
     "data": {
      "text/plain": [
       "<matplotlib.axes._subplots.AxesSubplot at 0x7ff3b3a08670>"
      ]
     },
     "execution_count": 91,
     "metadata": {},
     "output_type": "execute_result"
    },
    {
     "data": {
      "image/png": "[encoded data removed]",
      "text/plain": [
       "<Figure size 576x360 with 2 Axes>"
      ]
     },
     "metadata": {},
     "output_type": "display_data"
    }
   ],
   "source": [
    "knn = KNeighborsClassifier (algorithm='ball_tree',\n",
    "                               leaf_size=20,\n",
    "                                n_neighbors=5,\n",
    "                                weights= 'distance',\n",
    "                             \n",
    "                               )\n",
    "\n",
    "knn = knn.fit(X_train,y_train)\n",
    "\n",
    "y_pred_knn = knn.predict(X_test)\n",
    "y_true=y_test\n",
    "confusion_matrix_knn=confusion_matrix(y_true, y_pred_knn)\n",
    "confusion_matrix_knn = pd.DataFrame(confusion_matrix_knn,\n",
    "    columns=[\"1\", \"2\", \"3\"],\n",
    "    index=[\"1\", \"2\", \"3\"]\n",
    ")\n",
    "\n",
    "sns.heatmap(confusion_matrix_knn, annot=True)"
   ]
  },
  {
   "cell_type": "markdown",
   "id": "b1f38098",
   "metadata": {},
   "source": [
    "Es mantenen els resultats aconseguits sense el GridSearch"
   ]
  },
  {
   "cell_type": "code",
   "execution_count": 92,
   "id": "0597391e",
   "metadata": {},
   "outputs": [
    {
     "name": "stdout",
     "output_type": "stream",
     "text": [
      "acc_dtc: 0.8518518518518519\n",
      "acc_knn: 0.7592592592592593\n"
     ]
    }
   ],
   "source": [
    "from sklearn.metrics import accuracy_score, recall_score, f1_score, roc_auc_score\n",
    "# Calcular la precisió per a cada model\n",
    "acc_dtc = accuracy_score(y_test, y_pred_dtc)\n",
    "acc_knn = accuracy_score(y_test, y_pred_knn)\n",
    "print ('acc_dtc:', acc_dtc)\n",
    "print ('acc_knn:',acc_knn)"
   ]
  },
  {
   "cell_type": "code",
   "execution_count": 93,
   "id": "9563e0b8",
   "metadata": {},
   "outputs": [
    {
     "name": "stdout",
     "output_type": "stream",
     "text": [
      "rec_dtc_micro: 0.8518518518518519\n",
      "rec_knn_micro: 0.7592592592592593\n"
     ]
    }
   ],
   "source": [
    "# Calcular la sensibilitat per a cada model (micro)\n",
    "rec_dtc_micro = recall_score(y_test, y_pred_dtc, average='micro')\n",
    "rec_knn_micro = recall_score(y_test, y_pred_knn, average='micro')\n",
    "print ('rec_dtc_micro:', rec_dtc_micro)\n",
    "print ('rec_knn_micro:',rec_knn_micro)"
   ]
  },
  {
   "cell_type": "code",
   "execution_count": 94,
   "id": "d3a43e8e",
   "metadata": {},
   "outputs": [
    {
     "name": "stdout",
     "output_type": "stream",
     "text": [
      "rec_dtc_macro: 0.8458646616541353\n",
      "rec_knn_macro: 0.7426900584795323\n"
     ]
    }
   ],
   "source": [
    "# Calcular la sensibilitat per a cada model (macro)\n",
    "rec_dtc_macro = recall_score(y_test, y_pred_dtc, average='macro')\n",
    "rec_knn_macro = recall_score(y_test, y_pred_knn, average='macro')\n",
    "print ('rec_dtc_macro:', rec_dtc_macro)\n",
    "print ('rec_knn_macro:', rec_knn_macro)"
   ]
  },
  {
   "cell_type": "code",
   "execution_count": 95,
   "id": "a51a4149",
   "metadata": {},
   "outputs": [
    {
     "name": "stdout",
     "output_type": "stream",
     "text": [
      "f1_dtc_micro: 0.8518518518518519\n",
      "f1_knn_micro: 0.7592592592592593\n"
     ]
    }
   ],
   "source": [
    "#Calcular l'indicador F1 per a cada model (micro)\n",
    "f1_dtc_micro = f1_score(y_test, y_pred_dtc,average='micro')\n",
    "f1_knn_micro = f1_score(y_test, y_pred_knn, average='micro')\n",
    "print ('f1_dtc_micro:', f1_dtc_micro)\n",
    "print ('f1_knn_micro:',f1_knn_micro)"
   ]
  },
  {
   "cell_type": "markdown",
   "id": "2fe2c7f0",
   "metadata": {},
   "source": [
    "Dubte: perquè em dóna el mateix resultat accuracy, recall score micro i f1 micro ?"
   ]
  },
  {
   "cell_type": "code",
   "execution_count": 96,
   "id": "c4b8faa4",
   "metadata": {},
   "outputs": [
    {
     "name": "stdout",
     "output_type": "stream",
     "text": [
      "f1_dtc_macro: 0.8510989010989012\n",
      "f1_knn_macro: 0.7426900584795323\n"
     ]
    }
   ],
   "source": [
    "#Calcular l'indicador F1 per a cada model (macro)\n",
    "f1_dtc_macro = f1_score(y_test, y_pred_dtc,average='macro')\n",
    "f1_knn_macro = f1_score(y_test, y_pred_knn, average='macro')\n",
    "print ('f1_dtc_macro:', f1_dtc_macro)\n",
    "print ('f1_knn_macro:', f1_knn_macro)"
   ]
  },
  {
   "cell_type": "code",
   "execution_count": 97,
   "id": "f6f24757",
   "metadata": {},
   "outputs": [
    {
     "data": {
      "text/html": [
       "<div>\n",
       "<style scoped>\n",
       "    .dataframe tbody tr th:only-of-type {\n",
       "        vertical-align: middle;\n",
       "    }\n",
       "\n",
       "    .dataframe tbody tr th {\n",
       "        vertical-align: top;\n",
       "    }\n",
       "\n",
       "    .dataframe thead th {\n",
       "        text-align: right;\n",
       "    }\n",
       "</style>\n",
       "<table border=\"1\" class=\"dataframe\">\n",
       "  <thead>\n",
       "    <tr style=\"text-align: right;\">\n",
       "      <th></th>\n",
       "      <th>Mètodes</th>\n",
       "      <th>DecisionTreeClassifier</th>\n",
       "      <th>KNN</th>\n",
       "    </tr>\n",
       "  </thead>\n",
       "  <tbody>\n",
       "    <tr>\n",
       "      <th>0</th>\n",
       "      <td>Accuracy</td>\n",
       "      <td>0.851852</td>\n",
       "      <td>0.759259</td>\n",
       "    </tr>\n",
       "    <tr>\n",
       "      <th>1</th>\n",
       "      <td>Sensibilitat (Macro)</td>\n",
       "      <td>0.845865</td>\n",
       "      <td>0.742690</td>\n",
       "    </tr>\n",
       "    <tr>\n",
       "      <th>2</th>\n",
       "      <td>F1(Macro)</td>\n",
       "      <td>0.851099</td>\n",
       "      <td>0.742690</td>\n",
       "    </tr>\n",
       "  </tbody>\n",
       "</table>\n",
       "</div>"
      ],
      "text/plain": [
       "                Mètodes  DecisionTreeClassifier       KNN\n",
       "0              Accuracy                0.851852  0.759259\n",
       "1  Sensibilitat (Macro)                0.845865  0.742690\n",
       "2             F1(Macro)                0.851099  0.742690"
      ]
     },
     "execution_count": 97,
     "metadata": {},
     "output_type": "execute_result"
    }
   ],
   "source": [
    "df_compar= pd.DataFrame()\n",
    "df_compar ['Mètodes']= 'Accuracy','Sensibilitat (Macro)','F1(Macro)'\n",
    "df_compar['DecisionTreeClassifier']= acc_dtc, rec_dtc_macro, f1_dtc_macro\n",
    "df_compar['KNN']= acc_knn, rec_knn_macro, f1_knn_macro\n",
    "df_compar"
   ]
  },
  {
   "cell_type": "code",
   "execution_count": 98,
   "id": "345dac1b",
   "metadata": {},
   "outputs": [],
   "source": [
    "acc_dtc_pp_gs=acc_dtc\n",
    "rec_dtc_macro_pp_gs=rec_dtc_macro\n",
    "f1_dtc_macro_pp_gs=f1_dtc_macro\n",
    "acc_knn_pp_gs=acc_knn\n",
    "rec_knn_macro_pp_gs=rec_knn_macro\n",
    "f1_knn_macro_pp_gs=f1_knn_macro"
   ]
  },
  {
   "cell_type": "code",
   "execution_count": 114,
   "id": "ff455dcf",
   "metadata": {},
   "outputs": [
    {
     "data": {
      "text/html": [
       "<div>\n",
       "<style scoped>\n",
       "    .dataframe tbody tr th:only-of-type {\n",
       "        vertical-align: middle;\n",
       "    }\n",
       "\n",
       "    .dataframe tbody tr th {\n",
       "        vertical-align: top;\n",
       "    }\n",
       "\n",
       "    .dataframe thead th {\n",
       "        text-align: right;\n",
       "    }\n",
       "</style>\n",
       "<table border=\"1\" class=\"dataframe\">\n",
       "  <thead>\n",
       "    <tr style=\"text-align: right;\">\n",
       "      <th></th>\n",
       "      <th>Mètodes</th>\n",
       "      <th>DecisionTreeClassifier sense tractar</th>\n",
       "      <th>KNN sense tractar</th>\n",
       "      <th>DecisionTreeClassifier amb GridSearch</th>\n",
       "      <th>KNN amb GridSearch</th>\n",
       "      <th>DecisionTreeClassifier amb Standarscaler</th>\n",
       "      <th>KNN amb Standarscaler</th>\n",
       "      <th>DecisionTreeClassifier amb Standarscaler i GridSearch</th>\n",
       "      <th>KNN amb Standarscaler i GridSearch</th>\n",
       "      <th>DecisionTreeClassifier amb preprocessat</th>\n",
       "      <th>KNN amb Standarscaler amb preprocessat</th>\n",
       "      <th>DecisionTreeClassifier amb preprocessat i GridSearch</th>\n",
       "      <th>KNN amb Standarscaler amb preprocessat i GridSearch</th>\n",
       "    </tr>\n",
       "  </thead>\n",
       "  <tbody>\n",
       "    <tr>\n",
       "      <th>0</th>\n",
       "      <td>Accuracy</td>\n",
       "      <td>0.944444</td>\n",
       "      <td>0.740741</td>\n",
       "      <td>0.851852</td>\n",
       "      <td>0.759259</td>\n",
       "      <td>0.962963</td>\n",
       "      <td>0.962963</td>\n",
       "      <td>0.851852</td>\n",
       "      <td>0.962963</td>\n",
       "      <td>0.962963</td>\n",
       "      <td>0.740741</td>\n",
       "      <td>0.851852</td>\n",
       "      <td>0.759259</td>\n",
       "    </tr>\n",
       "    <tr>\n",
       "      <th>1</th>\n",
       "      <td>Sensibilitat (Macro)</td>\n",
       "      <td>0.941103</td>\n",
       "      <td>0.726817</td>\n",
       "      <td>0.845865</td>\n",
       "      <td>0.742690</td>\n",
       "      <td>0.958647</td>\n",
       "      <td>0.968254</td>\n",
       "      <td>0.845865</td>\n",
       "      <td>0.968254</td>\n",
       "      <td>0.958647</td>\n",
       "      <td>0.726817</td>\n",
       "      <td>0.845865</td>\n",
       "      <td>0.742690</td>\n",
       "    </tr>\n",
       "    <tr>\n",
       "      <th>2</th>\n",
       "      <td>F1(Macro)</td>\n",
       "      <td>0.945476</td>\n",
       "      <td>0.726056</td>\n",
       "      <td>0.851099</td>\n",
       "      <td>0.744183</td>\n",
       "      <td>0.962359</td>\n",
       "      <td>0.963292</td>\n",
       "      <td>0.851099</td>\n",
       "      <td>0.963292</td>\n",
       "      <td>0.962359</td>\n",
       "      <td>0.726056</td>\n",
       "      <td>0.851099</td>\n",
       "      <td>0.742690</td>\n",
       "    </tr>\n",
       "  </tbody>\n",
       "</table>\n",
       "</div>"
      ],
      "text/plain": [
       "                Mètodes  DecisionTreeClassifier sense tractar  \\\n",
       "0              Accuracy                              0.944444   \n",
       "1  Sensibilitat (Macro)                              0.941103   \n",
       "2             F1(Macro)                              0.945476   \n",
       "\n",
       "   KNN sense tractar  DecisionTreeClassifier amb GridSearch  \\\n",
       "0           0.740741                               0.851852   \n",
       "1           0.726817                               0.845865   \n",
       "2           0.726056                               0.851099   \n",
       "\n",
       "   KNN amb GridSearch  DecisionTreeClassifier amb Standarscaler  \\\n",
       "0            0.759259                                  0.962963   \n",
       "1            0.742690                                  0.958647   \n",
       "2            0.744183                                  0.962359   \n",
       "\n",
       "   KNN amb Standarscaler  \\\n",
       "0               0.962963   \n",
       "1               0.968254   \n",
       "2               0.963292   \n",
       "\n",
       "   DecisionTreeClassifier amb Standarscaler i GridSearch  \\\n",
       "0                                           0.851852       \n",
       "1                                           0.845865       \n",
       "2                                           0.851099       \n",
       "\n",
       "   KNN amb Standarscaler i GridSearch  \\\n",
       "0                            0.962963   \n",
       "1                            0.968254   \n",
       "2                            0.963292   \n",
       "\n",
       "   DecisionTreeClassifier amb preprocessat  \\\n",
       "0                                 0.962963   \n",
       "1                                 0.958647   \n",
       "2                                 0.962359   \n",
       "\n",
       "   KNN amb Standarscaler amb preprocessat  \\\n",
       "0                                0.740741   \n",
       "1                                0.726817   \n",
       "2                                0.726056   \n",
       "\n",
       "   DecisionTreeClassifier amb preprocessat i GridSearch  \\\n",
       "0                                           0.851852      \n",
       "1                                           0.845865      \n",
       "2                                           0.851099      \n",
       "\n",
       "   KNN amb Standarscaler amb preprocessat i GridSearch  \n",
       "0                                           0.759259    \n",
       "1                                           0.742690    \n",
       "2                                           0.742690    "
      ]
     },
     "execution_count": 114,
     "metadata": {},
     "output_type": "execute_result"
    }
   ],
   "source": [
    "df_compar= pd.DataFrame()\n",
    "df_compar ['Mètodes']= 'Accuracy','Sensibilitat (Macro)','F1(Macro)'\n",
    "\n",
    "df_compar['DecisionTreeClassifier sense tractar']= acc_dtc_st, rec_dtc_macro_st, f1_dtc_macro_st\n",
    "df_compar['KNN sense tractar']= acc_knn_st, rec_knn_macro_st, f1_knn_macro_st\n",
    "\n",
    "df_compar['DecisionTreeClassifier amb GridSearch']= acc_dtc_gd, rec_dtc_macro_gd, f1_dtc_macro_gd\n",
    "df_compar['KNN amb GridSearch']= acc_knn_gd, rec_knn_macro_gd, f1_knn_macro_gd\n",
    "\n",
    "df_compar['DecisionTreeClassifier amb Standarscaler']= acc_dtc_sds, rec_dtc_macro_sds, f1_dtc_macro_sds\n",
    "df_compar['KNN amb Standarscaler']= acc_knn_sds, rec_knn_macro_sds, f1_knn_macro_sds\n",
    "\n",
    "df_compar['DecisionTreeClassifier amb Standarscaler i GridSearch']= acc_dtc_sds_gs, rec_dtc_macro_sds_gs, f1_dtc_macro_sds_gs\n",
    "df_compar['KNN amb Standarscaler i GridSearch']= acc_knn_sds_gs, rec_knn_macro_sds_gs, f1_knn_macro_sds_gs\n",
    "\n",
    "df_compar['DecisionTreeClassifier amb preprocessat']= acc_dtc_pp, rec_dtc_macro_pp, f1_dtc_macro_pp\n",
    "df_compar['KNN amb Standarscaler amb preprocessat']= acc_knn_pp, rec_knn_macro_pp, f1_knn_macro_pp\n",
    "\n",
    "df_compar['DecisionTreeClassifier amb preprocessat i GridSearch']= acc_dtc_pp_gs, rec_dtc_macro_pp_gs, f1_dtc_macro_pp_gs\n",
    "df_compar['KNN amb Standarscaler amb preprocessat i GridSearch']= acc_knn_pp_gs, rec_knn_macro_pp_gs, f1_knn_macro_pp_gs\n",
    "\n",
    "df_compar"
   ]
  },
  {
   "cell_type": "code",
   "execution_count": 115,
   "id": "bf2b9d1a",
   "metadata": {},
   "outputs": [],
   "source": [
    "df_compar= df_compar [['Mètodes','DecisionTreeClassifier sense tractar','DecisionTreeClassifier amb Standarscaler','KNN amb Standarscaler']]"
   ]
  },
  {
   "cell_type": "code",
   "execution_count": 116,
   "id": "adee701a",
   "metadata": {},
   "outputs": [],
   "source": [
    "df_compar = df_compar.set_index('Mètodes')\n"
   ]
  },
  {
   "cell_type": "code",
   "execution_count": 117,
   "id": "ac16e6ca",
   "metadata": {},
   "outputs": [
    {
     "data": {
      "text/html": [
       "<div>\n",
       "<style scoped>\n",
       "    .dataframe tbody tr th:only-of-type {\n",
       "        vertical-align: middle;\n",
       "    }\n",
       "\n",
       "    .dataframe tbody tr th {\n",
       "        vertical-align: top;\n",
       "    }\n",
       "\n",
       "    .dataframe thead th {\n",
       "        text-align: right;\n",
       "    }\n",
       "</style>\n",
       "<table border=\"1\" class=\"dataframe\">\n",
       "  <thead>\n",
       "    <tr style=\"text-align: right;\">\n",
       "      <th></th>\n",
       "      <th>DecisionTreeClassifier sense tractar</th>\n",
       "      <th>DecisionTreeClassifier amb Standarscaler</th>\n",
       "      <th>KNN amb Standarscaler</th>\n",
       "    </tr>\n",
       "    <tr>\n",
       "      <th>Mètodes</th>\n",
       "      <th></th>\n",
       "      <th></th>\n",
       "      <th></th>\n",
       "    </tr>\n",
       "  </thead>\n",
       "  <tbody>\n",
       "    <tr>\n",
       "      <th>Accuracy</th>\n",
       "      <td>0.944444</td>\n",
       "      <td>0.962963</td>\n",
       "      <td>0.962963</td>\n",
       "    </tr>\n",
       "    <tr>\n",
       "      <th>Sensibilitat (Macro)</th>\n",
       "      <td>0.941103</td>\n",
       "      <td>0.958647</td>\n",
       "      <td>0.968254</td>\n",
       "    </tr>\n",
       "    <tr>\n",
       "      <th>F1(Macro)</th>\n",
       "      <td>0.945476</td>\n",
       "      <td>0.962359</td>\n",
       "      <td>0.963292</td>\n",
       "    </tr>\n",
       "  </tbody>\n",
       "</table>\n",
       "</div>"
      ],
      "text/plain": [
       "                      DecisionTreeClassifier sense tractar  \\\n",
       "Mètodes                                                      \n",
       "Accuracy                                          0.944444   \n",
       "Sensibilitat (Macro)                              0.941103   \n",
       "F1(Macro)                                         0.945476   \n",
       "\n",
       "                      DecisionTreeClassifier amb Standarscaler  \\\n",
       "Mètodes                                                          \n",
       "Accuracy                                              0.962963   \n",
       "Sensibilitat (Macro)                                  0.958647   \n",
       "F1(Macro)                                             0.962359   \n",
       "\n",
       "                      KNN amb Standarscaler  \n",
       "Mètodes                                      \n",
       "Accuracy                           0.962963  \n",
       "Sensibilitat (Macro)               0.968254  \n",
       "F1(Macro)                          0.963292  "
      ]
     },
     "execution_count": 117,
     "metadata": {},
     "output_type": "execute_result"
    }
   ],
   "source": [
    "df_compar"
   ]
  },
  {
   "cell_type": "code",
   "execution_count": 118,
   "id": "2ff4d31f",
   "metadata": {},
   "outputs": [
    {
     "data": {
      "image/png": "[encoded data removed]",
      "text/plain": [
       "<Figure size 576x360 with 1 Axes>"
      ]
     },
     "metadata": {},
     "output_type": "display_data"
    }
   ],
   "source": [
    "import matplotlib.pyplot as plt\n",
    "df_compar.plot(kind='bar', title='Mètriques')\n",
    "plt.show()\n"
   ]
  },
  {
   "cell_type": "markdown",
   "id": "e367c87c",
   "metadata": {},
   "source": [
    "Com es pot veure el model que dóna millors mètriques és el KNN fent un Standarscaler. Per altra banda caldria conèixer quines són les necessites exactes que cal predir per tal de valorar mitjançant les matrius de confusió per a decidir quin model ens va millor"
   ]
  },
  {
   "cell_type": "code",
   "execution_count": null,
   "id": "36dec658",
   "metadata": {},
   "outputs": [],
   "source": []
  }
 ],
 "metadata": {
  "kernelspec": {
   "display_name": "Python 3 (ipykernel)",
   "language": "python",
   "name": "python3"
  },
  "language_info": {
   "codemirror_mode": {
    "name": "ipython",
    "version": 3
   },
   "file_extension": ".py",
   "mimetype": "text/x-python",
   "name": "python",
   "nbconvert_exporter": "python",
   "pygments_lexer": "ipython3",
   "version": "3.8.10"
  },
  "nbTranslate": {
   "displayLangs": [
    "*"
   ],
   "hotkey": "alt-t",
   "langInMainMenu": true,
   "sourceLang": "en",
   "targetLang": "fr",
   "useGoogleTranslate": true
  }
 },
 "nbformat": 4,
 "nbformat_minor": 5
}
